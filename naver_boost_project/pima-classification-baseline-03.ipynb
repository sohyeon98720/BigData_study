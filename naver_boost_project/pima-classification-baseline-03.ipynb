{
 "cells": [
  {
   "cell_type": "code",
   "execution_count": 1,
   "metadata": {},
   "outputs": [],
   "source": [
    "import pandas as pd\n",
    "import numpy as np\n",
    "import seaborn as sns\n",
    "import matplotlib.pyplot as plt\n",
    "\n",
    "%matplotlib inline"
   ]
  },
  {
   "cell_type": "code",
   "execution_count": 2,
   "metadata": {},
   "outputs": [
    {
     "data": {
      "text/plain": [
       "(768, 16)"
      ]
     },
     "execution_count": 2,
     "metadata": {},
     "output_type": "execute_result"
    }
   ],
   "source": [
    "df=pd.read_csv('./diabetes_feature.csv')\n",
    "df.shape"
   ]
  },
  {
   "cell_type": "code",
   "execution_count": 3,
   "metadata": {},
   "outputs": [
    {
     "data": {
      "text/html": [
       "<div>\n",
       "<style scoped>\n",
       "    .dataframe tbody tr th:only-of-type {\n",
       "        vertical-align: middle;\n",
       "    }\n",
       "\n",
       "    .dataframe tbody tr th {\n",
       "        vertical-align: top;\n",
       "    }\n",
       "\n",
       "    .dataframe thead th {\n",
       "        text-align: right;\n",
       "    }\n",
       "</style>\n",
       "<table border=\"1\" class=\"dataframe\">\n",
       "  <thead>\n",
       "    <tr style=\"text-align: right;\">\n",
       "      <th></th>\n",
       "      <th>Pregnancies</th>\n",
       "      <th>Glucose</th>\n",
       "      <th>BloodPressure</th>\n",
       "      <th>SkinThickness</th>\n",
       "      <th>Insulin</th>\n",
       "      <th>BMI</th>\n",
       "      <th>DiabetesPedigreeFunction</th>\n",
       "      <th>Age</th>\n",
       "      <th>Outcome</th>\n",
       "      <th>Pregnancies_high</th>\n",
       "      <th>Age_low</th>\n",
       "      <th>Age_middle</th>\n",
       "      <th>Age_high</th>\n",
       "      <th>Insulin_nan</th>\n",
       "      <th>Insulin_log</th>\n",
       "      <th>low_glu_Insulin</th>\n",
       "    </tr>\n",
       "  </thead>\n",
       "  <tbody>\n",
       "    <tr>\n",
       "      <th>0</th>\n",
       "      <td>6</td>\n",
       "      <td>0.848324</td>\n",
       "      <td>72</td>\n",
       "      <td>35</td>\n",
       "      <td>0</td>\n",
       "      <td>33.6</td>\n",
       "      <td>0.468492</td>\n",
       "      <td>50</td>\n",
       "      <td>1</td>\n",
       "      <td>False</td>\n",
       "      <td>False</td>\n",
       "      <td>True</td>\n",
       "      <td>False</td>\n",
       "      <td>102.5</td>\n",
       "      <td>4.639572</td>\n",
       "      <td>False</td>\n",
       "    </tr>\n",
       "    <tr>\n",
       "      <th>1</th>\n",
       "      <td>1</td>\n",
       "      <td>-1.123396</td>\n",
       "      <td>66</td>\n",
       "      <td>29</td>\n",
       "      <td>0</td>\n",
       "      <td>26.6</td>\n",
       "      <td>-0.365061</td>\n",
       "      <td>31</td>\n",
       "      <td>0</td>\n",
       "      <td>False</td>\n",
       "      <td>False</td>\n",
       "      <td>True</td>\n",
       "      <td>False</td>\n",
       "      <td>169.5</td>\n",
       "      <td>5.138735</td>\n",
       "      <td>False</td>\n",
       "    </tr>\n",
       "    <tr>\n",
       "      <th>2</th>\n",
       "      <td>8</td>\n",
       "      <td>1.943724</td>\n",
       "      <td>64</td>\n",
       "      <td>0</td>\n",
       "      <td>0</td>\n",
       "      <td>23.3</td>\n",
       "      <td>0.604397</td>\n",
       "      <td>32</td>\n",
       "      <td>1</td>\n",
       "      <td>True</td>\n",
       "      <td>False</td>\n",
       "      <td>True</td>\n",
       "      <td>False</td>\n",
       "      <td>102.5</td>\n",
       "      <td>4.639572</td>\n",
       "      <td>False</td>\n",
       "    </tr>\n",
       "    <tr>\n",
       "      <th>3</th>\n",
       "      <td>1</td>\n",
       "      <td>-0.998208</td>\n",
       "      <td>66</td>\n",
       "      <td>23</td>\n",
       "      <td>94</td>\n",
       "      <td>28.1</td>\n",
       "      <td>-0.920763</td>\n",
       "      <td>21</td>\n",
       "      <td>0</td>\n",
       "      <td>False</td>\n",
       "      <td>True</td>\n",
       "      <td>False</td>\n",
       "      <td>False</td>\n",
       "      <td>94.0</td>\n",
       "      <td>4.553877</td>\n",
       "      <td>True</td>\n",
       "    </tr>\n",
       "    <tr>\n",
       "      <th>4</th>\n",
       "      <td>0</td>\n",
       "      <td>0.504055</td>\n",
       "      <td>40</td>\n",
       "      <td>35</td>\n",
       "      <td>168</td>\n",
       "      <td>43.1</td>\n",
       "      <td>5.484909</td>\n",
       "      <td>33</td>\n",
       "      <td>1</td>\n",
       "      <td>False</td>\n",
       "      <td>False</td>\n",
       "      <td>True</td>\n",
       "      <td>False</td>\n",
       "      <td>168.0</td>\n",
       "      <td>5.129899</td>\n",
       "      <td>False</td>\n",
       "    </tr>\n",
       "  </tbody>\n",
       "</table>\n",
       "</div>"
      ],
      "text/plain": [
       "   Pregnancies   Glucose  BloodPressure  SkinThickness  Insulin   BMI  \\\n",
       "0            6  0.848324             72             35        0  33.6   \n",
       "1            1 -1.123396             66             29        0  26.6   \n",
       "2            8  1.943724             64              0        0  23.3   \n",
       "3            1 -0.998208             66             23       94  28.1   \n",
       "4            0  0.504055             40             35      168  43.1   \n",
       "\n",
       "   DiabetesPedigreeFunction  Age  Outcome  Pregnancies_high  Age_low  \\\n",
       "0                  0.468492   50        1             False    False   \n",
       "1                 -0.365061   31        0             False    False   \n",
       "2                  0.604397   32        1              True    False   \n",
       "3                 -0.920763   21        0             False     True   \n",
       "4                  5.484909   33        1             False    False   \n",
       "\n",
       "   Age_middle  Age_high  Insulin_nan  Insulin_log  low_glu_Insulin  \n",
       "0        True     False        102.5     4.639572            False  \n",
       "1        True     False        169.5     5.138735            False  \n",
       "2        True     False        102.5     4.639572            False  \n",
       "3       False     False         94.0     4.553877             True  \n",
       "4        True     False        168.0     5.129899            False  "
      ]
     },
     "execution_count": 3,
     "metadata": {},
     "output_type": "execute_result"
    }
   ],
   "source": [
    "df.head()\n",
    "# 강의자 diabetes_feature.csv와 Glucose가 다름\n",
    "# WHY) 나는 Scale한 값을 저장했기때문\n",
    "# => 원본파일의 Glucose column을 불러와 이곳의 Glucose로 대체해야함"
   ]
  },
  {
   "cell_type": "code",
   "execution_count": 3,
   "metadata": {},
   "outputs": [
    {
     "data": {
      "text/html": [
       "<div>\n",
       "<style scoped>\n",
       "    .dataframe tbody tr th:only-of-type {\n",
       "        vertical-align: middle;\n",
       "    }\n",
       "\n",
       "    .dataframe tbody tr th {\n",
       "        vertical-align: top;\n",
       "    }\n",
       "\n",
       "    .dataframe thead th {\n",
       "        text-align: right;\n",
       "    }\n",
       "</style>\n",
       "<table border=\"1\" class=\"dataframe\">\n",
       "  <thead>\n",
       "    <tr style=\"text-align: right;\">\n",
       "      <th></th>\n",
       "      <th>Pregnancies</th>\n",
       "      <th>Glucose</th>\n",
       "      <th>BloodPressure</th>\n",
       "      <th>SkinThickness</th>\n",
       "      <th>Insulin</th>\n",
       "      <th>BMI</th>\n",
       "      <th>DiabetesPedigreeFunction</th>\n",
       "      <th>Age</th>\n",
       "      <th>Outcome</th>\n",
       "    </tr>\n",
       "  </thead>\n",
       "  <tbody>\n",
       "    <tr>\n",
       "      <th>0</th>\n",
       "      <td>6</td>\n",
       "      <td>148</td>\n",
       "      <td>72</td>\n",
       "      <td>35</td>\n",
       "      <td>0</td>\n",
       "      <td>33.6</td>\n",
       "      <td>0.627</td>\n",
       "      <td>50</td>\n",
       "      <td>1</td>\n",
       "    </tr>\n",
       "    <tr>\n",
       "      <th>1</th>\n",
       "      <td>1</td>\n",
       "      <td>85</td>\n",
       "      <td>66</td>\n",
       "      <td>29</td>\n",
       "      <td>0</td>\n",
       "      <td>26.6</td>\n",
       "      <td>0.351</td>\n",
       "      <td>31</td>\n",
       "      <td>0</td>\n",
       "    </tr>\n",
       "    <tr>\n",
       "      <th>2</th>\n",
       "      <td>8</td>\n",
       "      <td>183</td>\n",
       "      <td>64</td>\n",
       "      <td>0</td>\n",
       "      <td>0</td>\n",
       "      <td>23.3</td>\n",
       "      <td>0.672</td>\n",
       "      <td>32</td>\n",
       "      <td>1</td>\n",
       "    </tr>\n",
       "    <tr>\n",
       "      <th>3</th>\n",
       "      <td>1</td>\n",
       "      <td>89</td>\n",
       "      <td>66</td>\n",
       "      <td>23</td>\n",
       "      <td>94</td>\n",
       "      <td>28.1</td>\n",
       "      <td>0.167</td>\n",
       "      <td>21</td>\n",
       "      <td>0</td>\n",
       "    </tr>\n",
       "    <tr>\n",
       "      <th>4</th>\n",
       "      <td>0</td>\n",
       "      <td>137</td>\n",
       "      <td>40</td>\n",
       "      <td>35</td>\n",
       "      <td>168</td>\n",
       "      <td>43.1</td>\n",
       "      <td>2.288</td>\n",
       "      <td>33</td>\n",
       "      <td>1</td>\n",
       "    </tr>\n",
       "  </tbody>\n",
       "</table>\n",
       "</div>"
      ],
      "text/plain": [
       "   Pregnancies  Glucose  BloodPressure  SkinThickness  Insulin   BMI  \\\n",
       "0            6      148             72             35        0  33.6   \n",
       "1            1       85             66             29        0  26.6   \n",
       "2            8      183             64              0        0  23.3   \n",
       "3            1       89             66             23       94  28.1   \n",
       "4            0      137             40             35      168  43.1   \n",
       "\n",
       "   DiabetesPedigreeFunction  Age  Outcome  \n",
       "0                     0.627   50        1  \n",
       "1                     0.351   31        0  \n",
       "2                     0.672   32        1  \n",
       "3                     0.167   21        0  \n",
       "4                     2.288   33        1  "
      ]
     },
     "execution_count": 3,
     "metadata": {},
     "output_type": "execute_result"
    }
   ],
   "source": [
    "df_original=pd.read_csv('./diabetes.csv')\n",
    "df_original.head()"
   ]
  },
  {
   "cell_type": "code",
   "execution_count": 4,
   "metadata": {},
   "outputs": [
    {
     "data": {
      "text/html": [
       "<div>\n",
       "<style scoped>\n",
       "    .dataframe tbody tr th:only-of-type {\n",
       "        vertical-align: middle;\n",
       "    }\n",
       "\n",
       "    .dataframe tbody tr th {\n",
       "        vertical-align: top;\n",
       "    }\n",
       "\n",
       "    .dataframe thead th {\n",
       "        text-align: right;\n",
       "    }\n",
       "</style>\n",
       "<table border=\"1\" class=\"dataframe\">\n",
       "  <thead>\n",
       "    <tr style=\"text-align: right;\">\n",
       "      <th></th>\n",
       "      <th>Pregnancies</th>\n",
       "      <th>Glucose</th>\n",
       "      <th>BloodPressure</th>\n",
       "      <th>SkinThickness</th>\n",
       "      <th>Insulin</th>\n",
       "      <th>BMI</th>\n",
       "      <th>DiabetesPedigreeFunction</th>\n",
       "      <th>Age</th>\n",
       "      <th>Outcome</th>\n",
       "      <th>Pregnancies_high</th>\n",
       "      <th>Age_low</th>\n",
       "      <th>Age_middle</th>\n",
       "      <th>Age_high</th>\n",
       "      <th>Insulin_nan</th>\n",
       "      <th>Insulin_log</th>\n",
       "      <th>low_glu_Insulin</th>\n",
       "    </tr>\n",
       "  </thead>\n",
       "  <tbody>\n",
       "    <tr>\n",
       "      <th>0</th>\n",
       "      <td>6</td>\n",
       "      <td>148</td>\n",
       "      <td>72</td>\n",
       "      <td>35</td>\n",
       "      <td>0</td>\n",
       "      <td>33.6</td>\n",
       "      <td>0.468492</td>\n",
       "      <td>50</td>\n",
       "      <td>1</td>\n",
       "      <td>False</td>\n",
       "      <td>False</td>\n",
       "      <td>True</td>\n",
       "      <td>False</td>\n",
       "      <td>102.5</td>\n",
       "      <td>4.639572</td>\n",
       "      <td>False</td>\n",
       "    </tr>\n",
       "    <tr>\n",
       "      <th>1</th>\n",
       "      <td>1</td>\n",
       "      <td>85</td>\n",
       "      <td>66</td>\n",
       "      <td>29</td>\n",
       "      <td>0</td>\n",
       "      <td>26.6</td>\n",
       "      <td>-0.365061</td>\n",
       "      <td>31</td>\n",
       "      <td>0</td>\n",
       "      <td>False</td>\n",
       "      <td>False</td>\n",
       "      <td>True</td>\n",
       "      <td>False</td>\n",
       "      <td>169.5</td>\n",
       "      <td>5.138735</td>\n",
       "      <td>False</td>\n",
       "    </tr>\n",
       "    <tr>\n",
       "      <th>2</th>\n",
       "      <td>8</td>\n",
       "      <td>183</td>\n",
       "      <td>64</td>\n",
       "      <td>0</td>\n",
       "      <td>0</td>\n",
       "      <td>23.3</td>\n",
       "      <td>0.604397</td>\n",
       "      <td>32</td>\n",
       "      <td>1</td>\n",
       "      <td>True</td>\n",
       "      <td>False</td>\n",
       "      <td>True</td>\n",
       "      <td>False</td>\n",
       "      <td>102.5</td>\n",
       "      <td>4.639572</td>\n",
       "      <td>False</td>\n",
       "    </tr>\n",
       "    <tr>\n",
       "      <th>3</th>\n",
       "      <td>1</td>\n",
       "      <td>89</td>\n",
       "      <td>66</td>\n",
       "      <td>23</td>\n",
       "      <td>94</td>\n",
       "      <td>28.1</td>\n",
       "      <td>-0.920763</td>\n",
       "      <td>21</td>\n",
       "      <td>0</td>\n",
       "      <td>False</td>\n",
       "      <td>True</td>\n",
       "      <td>False</td>\n",
       "      <td>False</td>\n",
       "      <td>94.0</td>\n",
       "      <td>4.553877</td>\n",
       "      <td>True</td>\n",
       "    </tr>\n",
       "    <tr>\n",
       "      <th>4</th>\n",
       "      <td>0</td>\n",
       "      <td>137</td>\n",
       "      <td>40</td>\n",
       "      <td>35</td>\n",
       "      <td>168</td>\n",
       "      <td>43.1</td>\n",
       "      <td>5.484909</td>\n",
       "      <td>33</td>\n",
       "      <td>1</td>\n",
       "      <td>False</td>\n",
       "      <td>False</td>\n",
       "      <td>True</td>\n",
       "      <td>False</td>\n",
       "      <td>168.0</td>\n",
       "      <td>5.129899</td>\n",
       "      <td>False</td>\n",
       "    </tr>\n",
       "  </tbody>\n",
       "</table>\n",
       "</div>"
      ],
      "text/plain": [
       "   Pregnancies  Glucose  BloodPressure  SkinThickness  Insulin   BMI  \\\n",
       "0            6      148             72             35        0  33.6   \n",
       "1            1       85             66             29        0  26.6   \n",
       "2            8      183             64              0        0  23.3   \n",
       "3            1       89             66             23       94  28.1   \n",
       "4            0      137             40             35      168  43.1   \n",
       "\n",
       "   DiabetesPedigreeFunction  Age  Outcome  Pregnancies_high  Age_low  \\\n",
       "0                  0.468492   50        1             False    False   \n",
       "1                 -0.365061   31        0             False    False   \n",
       "2                  0.604397   32        1              True    False   \n",
       "3                 -0.920763   21        0             False     True   \n",
       "4                  5.484909   33        1             False    False   \n",
       "\n",
       "   Age_middle  Age_high  Insulin_nan  Insulin_log  low_glu_Insulin  \n",
       "0        True     False        102.5     4.639572            False  \n",
       "1        True     False        169.5     5.138735            False  \n",
       "2        True     False        102.5     4.639572            False  \n",
       "3       False     False         94.0     4.553877             True  \n",
       "4        True     False        168.0     5.129899            False  "
      ]
     },
     "execution_count": 4,
     "metadata": {},
     "output_type": "execute_result"
    }
   ],
   "source": [
    "df['Glucose']=df_original['Glucose']\n",
    "df.head()"
   ]
  },
  {
   "cell_type": "code",
   "execution_count": 5,
   "metadata": {},
   "outputs": [],
   "source": [
    "from sklearn.model_selection import train_test_split\n",
    "\n",
    "train_test_split?"
   ]
  },
  {
   "cell_type": "code",
   "execution_count": 7,
   "metadata": {},
   "outputs": [
    {
     "data": {
      "text/plain": [
       "Index(['Pregnancies', 'Glucose', 'BloodPressure', 'SkinThickness', 'Insulin',\n",
       "       'BMI', 'DiabetesPedigreeFunction', 'Age', 'Outcome', 'Pregnancies_high',\n",
       "       'Age_low', 'Age_middle', 'Age_high', 'Insulin_nan', 'Insulin_log',\n",
       "       'low_glu_Insulin'],\n",
       "      dtype='object')"
      ]
     },
     "execution_count": 7,
     "metadata": {},
     "output_type": "execute_result"
    }
   ],
   "source": [
    "df.columns"
   ]
  },
  {
   "cell_type": "code",
   "execution_count": 6,
   "metadata": {},
   "outputs": [
    {
     "data": {
      "text/plain": [
       "(768, 9)"
      ]
     },
     "execution_count": 6,
     "metadata": {},
     "output_type": "execute_result"
    }
   ],
   "source": [
    "X = df[['Glucose', 'BloodPressure', 'SkinThickness',\n",
    "       'BMI', 'DiabetesPedigreeFunction', 'Age', 'Pregnancies_high',\n",
    "       'Insulin_nan','low_glu_Insulin']]\n",
    "X.shape"
   ]
  },
  {
   "cell_type": "code",
   "execution_count": 7,
   "metadata": {},
   "outputs": [
    {
     "data": {
      "text/plain": [
       "(768,)"
      ]
     },
     "execution_count": 7,
     "metadata": {},
     "output_type": "execute_result"
    }
   ],
   "source": [
    "y=df['Outcome']\n",
    "y.shape"
   ]
  },
  {
   "cell_type": "code",
   "execution_count": 8,
   "metadata": {},
   "outputs": [],
   "source": [
    "X_train, X_test, y_train, y_test = train_test_split(\n",
    "     X, y, test_size=0.2, random_state=42)"
   ]
  },
  {
   "cell_type": "code",
   "execution_count": 9,
   "metadata": {},
   "outputs": [
    {
     "data": {
      "text/html": [
       "<div>\n",
       "<style scoped>\n",
       "    .dataframe tbody tr th:only-of-type {\n",
       "        vertical-align: middle;\n",
       "    }\n",
       "\n",
       "    .dataframe tbody tr th {\n",
       "        vertical-align: top;\n",
       "    }\n",
       "\n",
       "    .dataframe thead th {\n",
       "        text-align: right;\n",
       "    }\n",
       "</style>\n",
       "<table border=\"1\" class=\"dataframe\">\n",
       "  <thead>\n",
       "    <tr style=\"text-align: right;\">\n",
       "      <th></th>\n",
       "      <th>Glucose</th>\n",
       "      <th>BloodPressure</th>\n",
       "      <th>SkinThickness</th>\n",
       "      <th>BMI</th>\n",
       "      <th>DiabetesPedigreeFunction</th>\n",
       "      <th>Age</th>\n",
       "      <th>Pregnancies_high</th>\n",
       "      <th>Insulin_nan</th>\n",
       "      <th>low_glu_Insulin</th>\n",
       "    </tr>\n",
       "  </thead>\n",
       "  <tbody>\n",
       "    <tr>\n",
       "      <th>60</th>\n",
       "      <td>84</td>\n",
       "      <td>0</td>\n",
       "      <td>0</td>\n",
       "      <td>0.0</td>\n",
       "      <td>-0.507006</td>\n",
       "      <td>21</td>\n",
       "      <td>False</td>\n",
       "      <td>169.5</td>\n",
       "      <td>False</td>\n",
       "    </tr>\n",
       "    <tr>\n",
       "      <th>618</th>\n",
       "      <td>112</td>\n",
       "      <td>82</td>\n",
       "      <td>24</td>\n",
       "      <td>28.2</td>\n",
       "      <td>2.446670</td>\n",
       "      <td>50</td>\n",
       "      <td>True</td>\n",
       "      <td>102.5</td>\n",
       "      <td>False</td>\n",
       "    </tr>\n",
       "    <tr>\n",
       "      <th>346</th>\n",
       "      <td>139</td>\n",
       "      <td>46</td>\n",
       "      <td>19</td>\n",
       "      <td>28.7</td>\n",
       "      <td>0.550035</td>\n",
       "      <td>22</td>\n",
       "      <td>False</td>\n",
       "      <td>83.0</td>\n",
       "      <td>False</td>\n",
       "    </tr>\n",
       "    <tr>\n",
       "      <th>294</th>\n",
       "      <td>161</td>\n",
       "      <td>50</td>\n",
       "      <td>0</td>\n",
       "      <td>21.9</td>\n",
       "      <td>-0.658012</td>\n",
       "      <td>65</td>\n",
       "      <td>False</td>\n",
       "      <td>169.5</td>\n",
       "      <td>False</td>\n",
       "    </tr>\n",
       "    <tr>\n",
       "      <th>231</th>\n",
       "      <td>134</td>\n",
       "      <td>80</td>\n",
       "      <td>37</td>\n",
       "      <td>46.2</td>\n",
       "      <td>-0.706334</td>\n",
       "      <td>46</td>\n",
       "      <td>False</td>\n",
       "      <td>370.0</td>\n",
       "      <td>False</td>\n",
       "    </tr>\n",
       "    <tr>\n",
       "      <th>...</th>\n",
       "      <td>...</td>\n",
       "      <td>...</td>\n",
       "      <td>...</td>\n",
       "      <td>...</td>\n",
       "      <td>...</td>\n",
       "      <td>...</td>\n",
       "      <td>...</td>\n",
       "      <td>...</td>\n",
       "      <td>...</td>\n",
       "    </tr>\n",
       "    <tr>\n",
       "      <th>71</th>\n",
       "      <td>139</td>\n",
       "      <td>64</td>\n",
       "      <td>35</td>\n",
       "      <td>28.6</td>\n",
       "      <td>-0.183854</td>\n",
       "      <td>26</td>\n",
       "      <td>False</td>\n",
       "      <td>140.0</td>\n",
       "      <td>False</td>\n",
       "    </tr>\n",
       "    <tr>\n",
       "      <th>106</th>\n",
       "      <td>96</td>\n",
       "      <td>122</td>\n",
       "      <td>0</td>\n",
       "      <td>22.4</td>\n",
       "      <td>-0.799958</td>\n",
       "      <td>27</td>\n",
       "      <td>False</td>\n",
       "      <td>169.5</td>\n",
       "      <td>False</td>\n",
       "    </tr>\n",
       "    <tr>\n",
       "      <th>270</th>\n",
       "      <td>101</td>\n",
       "      <td>86</td>\n",
       "      <td>37</td>\n",
       "      <td>45.6</td>\n",
       "      <td>2.005732</td>\n",
       "      <td>38</td>\n",
       "      <td>True</td>\n",
       "      <td>102.5</td>\n",
       "      <td>False</td>\n",
       "    </tr>\n",
       "    <tr>\n",
       "      <th>435</th>\n",
       "      <td>141</td>\n",
       "      <td>0</td>\n",
       "      <td>0</td>\n",
       "      <td>42.4</td>\n",
       "      <td>-0.805998</td>\n",
       "      <td>29</td>\n",
       "      <td>False</td>\n",
       "      <td>102.5</td>\n",
       "      <td>False</td>\n",
       "    </tr>\n",
       "    <tr>\n",
       "      <th>102</th>\n",
       "      <td>125</td>\n",
       "      <td>96</td>\n",
       "      <td>0</td>\n",
       "      <td>22.5</td>\n",
       "      <td>-0.633851</td>\n",
       "      <td>21</td>\n",
       "      <td>False</td>\n",
       "      <td>169.5</td>\n",
       "      <td>False</td>\n",
       "    </tr>\n",
       "  </tbody>\n",
       "</table>\n",
       "<p>614 rows × 9 columns</p>\n",
       "</div>"
      ],
      "text/plain": [
       "     Glucose  BloodPressure  SkinThickness   BMI  DiabetesPedigreeFunction  \\\n",
       "60        84              0              0   0.0                 -0.507006   \n",
       "618      112             82             24  28.2                  2.446670   \n",
       "346      139             46             19  28.7                  0.550035   \n",
       "294      161             50              0  21.9                 -0.658012   \n",
       "231      134             80             37  46.2                 -0.706334   \n",
       "..       ...            ...            ...   ...                       ...   \n",
       "71       139             64             35  28.6                 -0.183854   \n",
       "106       96            122              0  22.4                 -0.799958   \n",
       "270      101             86             37  45.6                  2.005732   \n",
       "435      141              0              0  42.4                 -0.805998   \n",
       "102      125             96              0  22.5                 -0.633851   \n",
       "\n",
       "     Age  Pregnancies_high  Insulin_nan  low_glu_Insulin  \n",
       "60    21             False        169.5            False  \n",
       "618   50              True        102.5            False  \n",
       "346   22             False         83.0            False  \n",
       "294   65             False        169.5            False  \n",
       "231   46             False        370.0            False  \n",
       "..   ...               ...          ...              ...  \n",
       "71    26             False        140.0            False  \n",
       "106   27             False        169.5            False  \n",
       "270   38              True        102.5            False  \n",
       "435   29             False        102.5            False  \n",
       "102   21             False        169.5            False  \n",
       "\n",
       "[614 rows x 9 columns]"
      ]
     },
     "execution_count": 9,
     "metadata": {},
     "output_type": "execute_result"
    }
   ],
   "source": [
    "X_train"
   ]
  },
  {
   "cell_type": "code",
   "execution_count": 10,
   "metadata": {},
   "outputs": [
    {
     "data": {
      "text/plain": [
       "((614, 9), (614,))"
      ]
     },
     "execution_count": 10,
     "metadata": {},
     "output_type": "execute_result"
    }
   ],
   "source": [
    "X_train.shape,y_train.shape"
   ]
  },
  {
   "cell_type": "code",
   "execution_count": 11,
   "metadata": {},
   "outputs": [
    {
     "data": {
      "text/plain": [
       "((154, 9), (154,))"
      ]
     },
     "execution_count": 11,
     "metadata": {},
     "output_type": "execute_result"
    }
   ],
   "source": [
    "X_test.shape,y_test.shape"
   ]
  },
  {
   "cell_type": "markdown",
   "metadata": {},
   "source": [
    "# -----"
   ]
  },
  {
   "cell_type": "code",
   "execution_count": 14,
   "metadata": {},
   "outputs": [
    {
     "data": {
      "text/plain": [
       "DecisionTreeClassifier()"
      ]
     },
     "execution_count": 14,
     "metadata": {},
     "output_type": "execute_result"
    }
   ],
   "source": [
    "from sklearn.tree import DecisionTreeClassifier\n",
    "\n",
    "model=DecisionTreeClassifier()\n",
    "model"
   ]
  },
  {
   "cell_type": "code",
   "execution_count": 15,
   "metadata": {},
   "outputs": [
    {
     "data": {
      "text/plain": [
       "DecisionTreeClassifier()"
      ]
     },
     "execution_count": 15,
     "metadata": {},
     "output_type": "execute_result"
    }
   ],
   "source": [
    "model.fit(X_train, y_train)"
   ]
  },
  {
   "cell_type": "code",
   "execution_count": 16,
   "metadata": {},
   "outputs": [],
   "source": [
    "feature_names=X_train.columns.tolist()"
   ]
  },
  {
   "cell_type": "code",
   "execution_count": 17,
   "metadata": {
    "scrolled": true
   },
   "outputs": [
    {
     "data": {
      "image/png": "[encoded data removed]",
      "text/plain": [
       "<Figure size 1080x1080 with 1 Axes>"
      ]
     },
     "metadata": {
      "needs_background": "light"
     },
     "output_type": "display_data"
    }
   ],
   "source": [
    "from sklearn.tree import plot_tree\n",
    "\n",
    "plt.figure(figsize=(15,15))\n",
    "tree=plot_tree(model,feature_names=feature_names,fontsize=10,filled=True)"
   ]
  },
  {
   "cell_type": "code",
   "execution_count": 18,
   "metadata": {},
   "outputs": [
    {
     "data": {
      "text/plain": [
       "array([0, 0, 0, 0, 0, 0, 0, 0, 1, 0, 1, 1, 0, 0, 0, 0, 0, 0, 1, 1, 0, 0,\n",
       "       0, 0, 1, 1, 0, 0, 0, 0, 1, 1, 1, 1, 0, 0, 1, 1, 0, 1, 0, 0, 0, 1,\n",
       "       0, 0, 0, 0, 0, 1, 0, 1, 1, 1, 0, 0, 0, 0, 1, 1, 1, 0, 0, 0, 0, 0,\n",
       "       0, 1, 0, 1, 1, 0, 0, 0, 0, 0, 0, 0, 0, 0, 1, 0, 0, 0, 1, 1, 1, 0,\n",
       "       0, 0, 0, 0, 0, 1, 0, 0, 0, 0, 1, 0, 1, 0, 1, 1, 1, 0, 1, 1, 0, 1,\n",
       "       0, 0, 0, 1, 0, 1, 1, 0, 0, 0, 0, 0, 1, 0, 0, 1, 1, 1, 1, 1, 1, 0,\n",
       "       0, 1, 1, 0, 0, 1, 0, 0, 0, 0, 0, 1, 0, 0, 1, 0, 0, 1, 0, 0, 0, 0],\n",
       "      dtype=int64)"
      ]
     },
     "execution_count": 18,
     "metadata": {},
     "output_type": "execute_result"
    }
   ],
   "source": [
    "y_pred=model.predict(X_test)\n",
    "y_pred"
   ]
  },
  {
   "cell_type": "code",
   "execution_count": 19,
   "metadata": {},
   "outputs": [
    {
     "data": {
      "text/plain": [
       "0.8116883116883117"
      ]
     },
     "execution_count": 19,
     "metadata": {},
     "output_type": "execute_result"
    }
   ],
   "source": [
    "# 정확도 구하기 1\n",
    "(y_pred==y_test).mean()\n",
    "# -> 정확도가 ~02.ipynb보다 낮은 이유는 train-test set을 순서대로가 아닌 random split했기때문"
   ]
  },
  {
   "cell_type": "code",
   "execution_count": 20,
   "metadata": {},
   "outputs": [
    {
     "data": {
      "text/plain": [
       "81.16883116883116"
      ]
     },
     "execution_count": 20,
     "metadata": {},
     "output_type": "execute_result"
    }
   ],
   "source": [
    "# 정확도 구하기 2\n",
    "\n",
    "from sklearn.metrics import accuracy_score\n",
    "\n",
    "accuracy_score(y_test,y_pred)*100"
   ]
  },
  {
   "cell_type": "markdown",
   "metadata": {},
   "source": [
    "# -----"
   ]
  },
  {
   "cell_type": "code",
   "execution_count": 21,
   "metadata": {},
   "outputs": [
    {
     "name": "stdout",
     "output_type": "stream",
     "text": [
      "3 80.51948051948052\n",
      "4 84.4155844155844\n",
      "5 84.4155844155844\n",
      "6 83.11688311688312\n",
      "7 83.11688311688312\n",
      "8 82.46753246753246\n",
      "9 81.81818181818183\n",
      "10 81.81818181818183\n",
      "11 81.16883116883116\n"
     ]
    }
   ],
   "source": [
    "# max_depth option을 다르게 주어 최적의 파라미터를 찾는다\n",
    "\n",
    "from sklearn.metrics import accuracy_score\n",
    "\n",
    "for max_depth in range(3, 12):\n",
    "    model = DecisionTreeClassifier(max_depth=max_depth, random_state=42)\n",
    "    y_predict = model.fit(X_train, y_train).predict(X_test)\n",
    "    score = accuracy_score(y_test, y_predict) * 100\n",
    "    print(max_depth, score)\n",
    "# -> max_depth가 4, 5일대 최고성능을 냄"
   ]
  },
  {
   "cell_type": "markdown",
   "metadata": {},
   "source": [
    "# -----"
   ]
  },
  {
   "cell_type": "code",
   "execution_count": 22,
   "metadata": {},
   "outputs": [
    {
     "data": {
      "text/plain": [
       "GridSearchCV(cv=5, estimator=DecisionTreeClassifier(random_state=42), n_jobs=-1,\n",
       "             param_grid={'max_depth': range(3, 12),\n",
       "                         'max_features': [0.3, 0.5, 0.7, 0.9, 1]},\n",
       "             verbose=1)"
      ]
     },
     "execution_count": 22,
     "metadata": {},
     "output_type": "execute_result"
    }
   ],
   "source": [
    "# 위의 내용(최적의 하이퍼파라미터 찾기)를 GridSearch이용해서 하기\n",
    "\n",
    "from sklearn.model_selection import GridSearchCV\n",
    "\n",
    "model=DecisionTreeClassifier(random_state=42)\n",
    "param_grid={'max_depth':range(3,12),\n",
    "           'max_features':[0.3,0.5,0.7,0.9,1]}\n",
    "\n",
    "# cv=5는 k-fold의 k=5라는 뜻\n",
    "clf=GridSearchCV(model,param_grid=param_grid,n_jobs=-1,cv=5,verbose=1)\n",
    "clf"
   ]
  },
  {
   "cell_type": "code",
   "execution_count": 23,
   "metadata": {},
   "outputs": [
    {
     "name": "stdout",
     "output_type": "stream",
     "text": [
      "Fitting 5 folds for each of 45 candidates, totalling 225 fits\n"
     ]
    },
    {
     "name": "stderr",
     "output_type": "stream",
     "text": [
      "[Parallel(n_jobs=-1)]: Using backend LokyBackend with 4 concurrent workers.\n",
      "[Parallel(n_jobs=-1)]: Done  56 tasks      | elapsed:    4.7s\n",
      "[Parallel(n_jobs=-1)]: Done 225 out of 225 | elapsed:    5.4s finished\n"
     ]
    },
    {
     "data": {
      "text/plain": [
       "GridSearchCV(cv=5, estimator=DecisionTreeClassifier(random_state=42), n_jobs=-1,\n",
       "             param_grid={'max_depth': range(3, 12),\n",
       "                         'max_features': [0.3, 0.5, 0.7, 0.9, 1]},\n",
       "             verbose=1)"
      ]
     },
     "execution_count": 23,
     "metadata": {},
     "output_type": "execute_result"
    }
   ],
   "source": [
    "clf.fit(X_train,y_train)"
   ]
  },
  {
   "cell_type": "code",
   "execution_count": 24,
   "metadata": {},
   "outputs": [
    {
     "data": {
      "text/plain": [
       "{'max_depth': 8, 'max_features': 0.5}"
      ]
     },
     "execution_count": 24,
     "metadata": {},
     "output_type": "execute_result"
    }
   ],
   "source": [
    "clf.best_params_"
   ]
  },
  {
   "cell_type": "code",
   "execution_count": 25,
   "metadata": {},
   "outputs": [
    {
     "data": {
      "text/plain": [
       "DecisionTreeClassifier(max_depth=8, max_features=0.5, random_state=42)"
      ]
     },
     "execution_count": 25,
     "metadata": {},
     "output_type": "execute_result"
    }
   ],
   "source": [
    "clf.best_estimator_"
   ]
  },
  {
   "cell_type": "code",
   "execution_count": 26,
   "metadata": {},
   "outputs": [
    {
     "data": {
      "text/plain": [
       "0.8615753698520592"
      ]
     },
     "execution_count": 26,
     "metadata": {},
     "output_type": "execute_result"
    }
   ],
   "source": [
    "clf.best_score_"
   ]
  },
  {
   "cell_type": "code",
   "execution_count": 27,
   "metadata": {},
   "outputs": [
    {
     "data": {
      "text/html": [
       "<div>\n",
       "<style scoped>\n",
       "    .dataframe tbody tr th:only-of-type {\n",
       "        vertical-align: middle;\n",
       "    }\n",
       "\n",
       "    .dataframe tbody tr th {\n",
       "        vertical-align: top;\n",
       "    }\n",
       "\n",
       "    .dataframe thead th {\n",
       "        text-align: right;\n",
       "    }\n",
       "</style>\n",
       "<table border=\"1\" class=\"dataframe\">\n",
       "  <thead>\n",
       "    <tr style=\"text-align: right;\">\n",
       "      <th></th>\n",
       "      <th>mean_fit_time</th>\n",
       "      <th>std_fit_time</th>\n",
       "      <th>mean_score_time</th>\n",
       "      <th>std_score_time</th>\n",
       "      <th>param_max_depth</th>\n",
       "      <th>param_max_features</th>\n",
       "      <th>params</th>\n",
       "      <th>split0_test_score</th>\n",
       "      <th>split1_test_score</th>\n",
       "      <th>split2_test_score</th>\n",
       "      <th>split3_test_score</th>\n",
       "      <th>split4_test_score</th>\n",
       "      <th>mean_test_score</th>\n",
       "      <th>std_test_score</th>\n",
       "      <th>rank_test_score</th>\n",
       "    </tr>\n",
       "  </thead>\n",
       "  <tbody>\n",
       "    <tr>\n",
       "      <th>26</th>\n",
       "      <td>0.007579</td>\n",
       "      <td>2.238706e-03</td>\n",
       "      <td>0.011569</td>\n",
       "      <td>1.129500e-02</td>\n",
       "      <td>8</td>\n",
       "      <td>0.5</td>\n",
       "      <td>{'max_depth': 8, 'max_features': 0.5}</td>\n",
       "      <td>0.821138</td>\n",
       "      <td>0.894309</td>\n",
       "      <td>0.821138</td>\n",
       "      <td>0.902439</td>\n",
       "      <td>0.868852</td>\n",
       "      <td>0.861575</td>\n",
       "      <td>0.034827</td>\n",
       "      <td>1</td>\n",
       "    </tr>\n",
       "    <tr>\n",
       "      <th>21</th>\n",
       "      <td>0.006582</td>\n",
       "      <td>7.976895e-04</td>\n",
       "      <td>0.003192</td>\n",
       "      <td>3.987575e-04</td>\n",
       "      <td>7</td>\n",
       "      <td>0.5</td>\n",
       "      <td>{'max_depth': 7, 'max_features': 0.5}</td>\n",
       "      <td>0.845528</td>\n",
       "      <td>0.918699</td>\n",
       "      <td>0.837398</td>\n",
       "      <td>0.829268</td>\n",
       "      <td>0.860656</td>\n",
       "      <td>0.858310</td>\n",
       "      <td>0.031926</td>\n",
       "      <td>2</td>\n",
       "    </tr>\n",
       "    <tr>\n",
       "      <th>16</th>\n",
       "      <td>0.012167</td>\n",
       "      <td>4.477786e-03</td>\n",
       "      <td>0.004987</td>\n",
       "      <td>3.512130e-03</td>\n",
       "      <td>6</td>\n",
       "      <td>0.5</td>\n",
       "      <td>{'max_depth': 6, 'max_features': 0.5}</td>\n",
       "      <td>0.837398</td>\n",
       "      <td>0.910569</td>\n",
       "      <td>0.829268</td>\n",
       "      <td>0.869919</td>\n",
       "      <td>0.836066</td>\n",
       "      <td>0.856644</td>\n",
       "      <td>0.030422</td>\n",
       "      <td>3</td>\n",
       "    </tr>\n",
       "    <tr>\n",
       "      <th>43</th>\n",
       "      <td>0.010172</td>\n",
       "      <td>6.383371e-03</td>\n",
       "      <td>0.008178</td>\n",
       "      <td>7.091011e-03</td>\n",
       "      <td>11</td>\n",
       "      <td>0.9</td>\n",
       "      <td>{'max_depth': 11, 'max_features': 0.9}</td>\n",
       "      <td>0.886179</td>\n",
       "      <td>0.910569</td>\n",
       "      <td>0.796748</td>\n",
       "      <td>0.837398</td>\n",
       "      <td>0.844262</td>\n",
       "      <td>0.855031</td>\n",
       "      <td>0.039695</td>\n",
       "      <td>4</td>\n",
       "    </tr>\n",
       "    <tr>\n",
       "      <th>36</th>\n",
       "      <td>0.012167</td>\n",
       "      <td>1.287156e-02</td>\n",
       "      <td>0.002793</td>\n",
       "      <td>3.990412e-04</td>\n",
       "      <td>10</td>\n",
       "      <td>0.5</td>\n",
       "      <td>{'max_depth': 10, 'max_features': 0.5}</td>\n",
       "      <td>0.853659</td>\n",
       "      <td>0.918699</td>\n",
       "      <td>0.772358</td>\n",
       "      <td>0.869919</td>\n",
       "      <td>0.852459</td>\n",
       "      <td>0.853419</td>\n",
       "      <td>0.047129</td>\n",
       "      <td>5</td>\n",
       "    </tr>\n",
       "    <tr>\n",
       "      <th>33</th>\n",
       "      <td>0.007621</td>\n",
       "      <td>2.210713e-03</td>\n",
       "      <td>0.002751</td>\n",
       "      <td>3.864571e-04</td>\n",
       "      <td>9</td>\n",
       "      <td>0.9</td>\n",
       "      <td>{'max_depth': 9, 'max_features': 0.9}</td>\n",
       "      <td>0.878049</td>\n",
       "      <td>0.910569</td>\n",
       "      <td>0.796748</td>\n",
       "      <td>0.837398</td>\n",
       "      <td>0.844262</td>\n",
       "      <td>0.853405</td>\n",
       "      <td>0.038535</td>\n",
       "      <td>6</td>\n",
       "    </tr>\n",
       "    <tr>\n",
       "      <th>38</th>\n",
       "      <td>0.010372</td>\n",
       "      <td>5.224470e-03</td>\n",
       "      <td>0.002992</td>\n",
       "      <td>6.143617e-07</td>\n",
       "      <td>10</td>\n",
       "      <td>0.9</td>\n",
       "      <td>{'max_depth': 10, 'max_features': 0.9}</td>\n",
       "      <td>0.853659</td>\n",
       "      <td>0.910569</td>\n",
       "      <td>0.796748</td>\n",
       "      <td>0.861789</td>\n",
       "      <td>0.844262</td>\n",
       "      <td>0.853405</td>\n",
       "      <td>0.036419</td>\n",
       "      <td>6</td>\n",
       "    </tr>\n",
       "    <tr>\n",
       "      <th>11</th>\n",
       "      <td>0.013762</td>\n",
       "      <td>8.884342e-03</td>\n",
       "      <td>0.004785</td>\n",
       "      <td>3.592064e-03</td>\n",
       "      <td>5</td>\n",
       "      <td>0.5</td>\n",
       "      <td>{'max_depth': 5, 'max_features': 0.5}</td>\n",
       "      <td>0.845528</td>\n",
       "      <td>0.878049</td>\n",
       "      <td>0.853659</td>\n",
       "      <td>0.845528</td>\n",
       "      <td>0.844262</td>\n",
       "      <td>0.853405</td>\n",
       "      <td>0.012768</td>\n",
       "      <td>6</td>\n",
       "    </tr>\n",
       "    <tr>\n",
       "      <th>18</th>\n",
       "      <td>0.008976</td>\n",
       "      <td>2.523098e-03</td>\n",
       "      <td>0.007381</td>\n",
       "      <td>5.802122e-03</td>\n",
       "      <td>6</td>\n",
       "      <td>0.9</td>\n",
       "      <td>{'max_depth': 6, 'max_features': 0.9}</td>\n",
       "      <td>0.837398</td>\n",
       "      <td>0.894309</td>\n",
       "      <td>0.804878</td>\n",
       "      <td>0.829268</td>\n",
       "      <td>0.893443</td>\n",
       "      <td>0.851859</td>\n",
       "      <td>0.035938</td>\n",
       "      <td>9</td>\n",
       "    </tr>\n",
       "    <tr>\n",
       "      <th>12</th>\n",
       "      <td>0.007982</td>\n",
       "      <td>1.411556e-03</td>\n",
       "      <td>0.011167</td>\n",
       "      <td>1.389827e-02</td>\n",
       "      <td>5</td>\n",
       "      <td>0.7</td>\n",
       "      <td>{'max_depth': 5, 'max_features': 0.7}</td>\n",
       "      <td>0.861789</td>\n",
       "      <td>0.878049</td>\n",
       "      <td>0.804878</td>\n",
       "      <td>0.837398</td>\n",
       "      <td>0.877049</td>\n",
       "      <td>0.851833</td>\n",
       "      <td>0.027696</td>\n",
       "      <td>10</td>\n",
       "    </tr>\n",
       "    <tr>\n",
       "      <th>8</th>\n",
       "      <td>0.007577</td>\n",
       "      <td>4.908851e-04</td>\n",
       "      <td>0.003791</td>\n",
       "      <td>1.162990e-03</td>\n",
       "      <td>4</td>\n",
       "      <td>0.9</td>\n",
       "      <td>{'max_depth': 4, 'max_features': 0.9}</td>\n",
       "      <td>0.788618</td>\n",
       "      <td>0.918699</td>\n",
       "      <td>0.853659</td>\n",
       "      <td>0.829268</td>\n",
       "      <td>0.860656</td>\n",
       "      <td>0.850180</td>\n",
       "      <td>0.042530</td>\n",
       "      <td>11</td>\n",
       "    </tr>\n",
       "    <tr>\n",
       "      <th>13</th>\n",
       "      <td>0.017956</td>\n",
       "      <td>1.370619e-02</td>\n",
       "      <td>0.003586</td>\n",
       "      <td>4.844745e-04</td>\n",
       "      <td>5</td>\n",
       "      <td>0.9</td>\n",
       "      <td>{'max_depth': 5, 'max_features': 0.9}</td>\n",
       "      <td>0.853659</td>\n",
       "      <td>0.845528</td>\n",
       "      <td>0.821138</td>\n",
       "      <td>0.869919</td>\n",
       "      <td>0.836066</td>\n",
       "      <td>0.845262</td>\n",
       "      <td>0.016402</td>\n",
       "      <td>12</td>\n",
       "    </tr>\n",
       "    <tr>\n",
       "      <th>27</th>\n",
       "      <td>0.006782</td>\n",
       "      <td>7.471187e-04</td>\n",
       "      <td>0.003789</td>\n",
       "      <td>1.163171e-03</td>\n",
       "      <td>8</td>\n",
       "      <td>0.7</td>\n",
       "      <td>{'max_depth': 8, 'max_features': 0.7}</td>\n",
       "      <td>0.869919</td>\n",
       "      <td>0.845528</td>\n",
       "      <td>0.788618</td>\n",
       "      <td>0.853659</td>\n",
       "      <td>0.860656</td>\n",
       "      <td>0.843676</td>\n",
       "      <td>0.028676</td>\n",
       "      <td>13</td>\n",
       "    </tr>\n",
       "    <tr>\n",
       "      <th>31</th>\n",
       "      <td>0.007181</td>\n",
       "      <td>2.474754e-03</td>\n",
       "      <td>0.003191</td>\n",
       "      <td>3.991608e-04</td>\n",
       "      <td>9</td>\n",
       "      <td>0.5</td>\n",
       "      <td>{'max_depth': 9, 'max_features': 0.5}</td>\n",
       "      <td>0.804878</td>\n",
       "      <td>0.918699</td>\n",
       "      <td>0.764228</td>\n",
       "      <td>0.886179</td>\n",
       "      <td>0.844262</td>\n",
       "      <td>0.843649</td>\n",
       "      <td>0.055232</td>\n",
       "      <td>14</td>\n",
       "    </tr>\n",
       "    <tr>\n",
       "      <th>28</th>\n",
       "      <td>0.012965</td>\n",
       "      <td>1.003307e-02</td>\n",
       "      <td>0.003990</td>\n",
       "      <td>1.092536e-03</td>\n",
       "      <td>8</td>\n",
       "      <td>0.9</td>\n",
       "      <td>{'max_depth': 8, 'max_features': 0.9}</td>\n",
       "      <td>0.869919</td>\n",
       "      <td>0.886179</td>\n",
       "      <td>0.813008</td>\n",
       "      <td>0.813008</td>\n",
       "      <td>0.836066</td>\n",
       "      <td>0.843636</td>\n",
       "      <td>0.029780</td>\n",
       "      <td>15</td>\n",
       "    </tr>\n",
       "    <tr>\n",
       "      <th>42</th>\n",
       "      <td>0.014561</td>\n",
       "      <td>1.232212e-02</td>\n",
       "      <td>0.002793</td>\n",
       "      <td>3.992082e-04</td>\n",
       "      <td>11</td>\n",
       "      <td>0.7</td>\n",
       "      <td>{'max_depth': 11, 'max_features': 0.7}</td>\n",
       "      <td>0.869919</td>\n",
       "      <td>0.853659</td>\n",
       "      <td>0.788618</td>\n",
       "      <td>0.853659</td>\n",
       "      <td>0.844262</td>\n",
       "      <td>0.842023</td>\n",
       "      <td>0.027950</td>\n",
       "      <td>16</td>\n",
       "    </tr>\n",
       "    <tr>\n",
       "      <th>32</th>\n",
       "      <td>0.016356</td>\n",
       "      <td>1.826627e-02</td>\n",
       "      <td>0.009176</td>\n",
       "      <td>1.087780e-02</td>\n",
       "      <td>9</td>\n",
       "      <td>0.7</td>\n",
       "      <td>{'max_depth': 9, 'max_features': 0.7}</td>\n",
       "      <td>0.853659</td>\n",
       "      <td>0.845528</td>\n",
       "      <td>0.788618</td>\n",
       "      <td>0.894309</td>\n",
       "      <td>0.827869</td>\n",
       "      <td>0.841997</td>\n",
       "      <td>0.034450</td>\n",
       "      <td>17</td>\n",
       "    </tr>\n",
       "    <tr>\n",
       "      <th>22</th>\n",
       "      <td>0.024733</td>\n",
       "      <td>2.626885e-02</td>\n",
       "      <td>0.004389</td>\n",
       "      <td>2.326712e-03</td>\n",
       "      <td>7</td>\n",
       "      <td>0.7</td>\n",
       "      <td>{'max_depth': 7, 'max_features': 0.7}</td>\n",
       "      <td>0.829268</td>\n",
       "      <td>0.886179</td>\n",
       "      <td>0.788618</td>\n",
       "      <td>0.845528</td>\n",
       "      <td>0.844262</td>\n",
       "      <td>0.838771</td>\n",
       "      <td>0.031397</td>\n",
       "      <td>18</td>\n",
       "    </tr>\n",
       "    <tr>\n",
       "      <th>7</th>\n",
       "      <td>0.007781</td>\n",
       "      <td>7.463939e-04</td>\n",
       "      <td>0.003589</td>\n",
       "      <td>4.859262e-04</td>\n",
       "      <td>4</td>\n",
       "      <td>0.7</td>\n",
       "      <td>{'max_depth': 4, 'max_features': 0.7}</td>\n",
       "      <td>0.788618</td>\n",
       "      <td>0.886179</td>\n",
       "      <td>0.821138</td>\n",
       "      <td>0.829268</td>\n",
       "      <td>0.860656</td>\n",
       "      <td>0.837172</td>\n",
       "      <td>0.033557</td>\n",
       "      <td>19</td>\n",
       "    </tr>\n",
       "    <tr>\n",
       "      <th>6</th>\n",
       "      <td>0.007181</td>\n",
       "      <td>9.765518e-04</td>\n",
       "      <td>0.003194</td>\n",
       "      <td>4.028330e-04</td>\n",
       "      <td>4</td>\n",
       "      <td>0.5</td>\n",
       "      <td>{'max_depth': 4, 'max_features': 0.5}</td>\n",
       "      <td>0.837398</td>\n",
       "      <td>0.853659</td>\n",
       "      <td>0.764228</td>\n",
       "      <td>0.861789</td>\n",
       "      <td>0.852459</td>\n",
       "      <td>0.833906</td>\n",
       "      <td>0.035719</td>\n",
       "      <td>20</td>\n",
       "    </tr>\n",
       "    <tr>\n",
       "      <th>17</th>\n",
       "      <td>0.009973</td>\n",
       "      <td>2.958790e-03</td>\n",
       "      <td>0.006782</td>\n",
       "      <td>2.778283e-03</td>\n",
       "      <td>6</td>\n",
       "      <td>0.7</td>\n",
       "      <td>{'max_depth': 6, 'max_features': 0.7}</td>\n",
       "      <td>0.821138</td>\n",
       "      <td>0.861789</td>\n",
       "      <td>0.813008</td>\n",
       "      <td>0.829268</td>\n",
       "      <td>0.844262</td>\n",
       "      <td>0.833893</td>\n",
       "      <td>0.017355</td>\n",
       "      <td>21</td>\n",
       "    </tr>\n",
       "    <tr>\n",
       "      <th>23</th>\n",
       "      <td>0.016955</td>\n",
       "      <td>1.465701e-02</td>\n",
       "      <td>0.009973</td>\n",
       "      <td>1.396322e-02</td>\n",
       "      <td>7</td>\n",
       "      <td>0.9</td>\n",
       "      <td>{'max_depth': 7, 'max_features': 0.9}</td>\n",
       "      <td>0.837398</td>\n",
       "      <td>0.878049</td>\n",
       "      <td>0.764228</td>\n",
       "      <td>0.821138</td>\n",
       "      <td>0.860656</td>\n",
       "      <td>0.832294</td>\n",
       "      <td>0.039195</td>\n",
       "      <td>22</td>\n",
       "    </tr>\n",
       "    <tr>\n",
       "      <th>41</th>\n",
       "      <td>0.007181</td>\n",
       "      <td>9.773891e-04</td>\n",
       "      <td>0.011768</td>\n",
       "      <td>1.805580e-02</td>\n",
       "      <td>11</td>\n",
       "      <td>0.5</td>\n",
       "      <td>{'max_depth': 11, 'max_features': 0.5}</td>\n",
       "      <td>0.780488</td>\n",
       "      <td>0.894309</td>\n",
       "      <td>0.788618</td>\n",
       "      <td>0.821138</td>\n",
       "      <td>0.844262</td>\n",
       "      <td>0.825763</td>\n",
       "      <td>0.041211</td>\n",
       "      <td>23</td>\n",
       "    </tr>\n",
       "    <tr>\n",
       "      <th>37</th>\n",
       "      <td>0.011170</td>\n",
       "      <td>8.401441e-03</td>\n",
       "      <td>0.002992</td>\n",
       "      <td>1.784161e-07</td>\n",
       "      <td>10</td>\n",
       "      <td>0.7</td>\n",
       "      <td>{'max_depth': 10, 'max_features': 0.7}</td>\n",
       "      <td>0.837398</td>\n",
       "      <td>0.829268</td>\n",
       "      <td>0.788618</td>\n",
       "      <td>0.837398</td>\n",
       "      <td>0.795082</td>\n",
       "      <td>0.817553</td>\n",
       "      <td>0.021294</td>\n",
       "      <td>24</td>\n",
       "    </tr>\n",
       "    <tr>\n",
       "      <th>3</th>\n",
       "      <td>0.009577</td>\n",
       "      <td>4.708151e-03</td>\n",
       "      <td>0.004586</td>\n",
       "      <td>2.716016e-03</td>\n",
       "      <td>3</td>\n",
       "      <td>0.9</td>\n",
       "      <td>{'max_depth': 3, 'max_features': 0.9}</td>\n",
       "      <td>0.804878</td>\n",
       "      <td>0.821138</td>\n",
       "      <td>0.796748</td>\n",
       "      <td>0.837398</td>\n",
       "      <td>0.811475</td>\n",
       "      <td>0.814328</td>\n",
       "      <td>0.014037</td>\n",
       "      <td>25</td>\n",
       "    </tr>\n",
       "    <tr>\n",
       "      <th>2</th>\n",
       "      <td>0.008577</td>\n",
       "      <td>3.254136e-03</td>\n",
       "      <td>0.003990</td>\n",
       "      <td>1.092319e-03</td>\n",
       "      <td>3</td>\n",
       "      <td>0.7</td>\n",
       "      <td>{'max_depth': 3, 'max_features': 0.7}</td>\n",
       "      <td>0.796748</td>\n",
       "      <td>0.829268</td>\n",
       "      <td>0.764228</td>\n",
       "      <td>0.829268</td>\n",
       "      <td>0.811475</td>\n",
       "      <td>0.806198</td>\n",
       "      <td>0.024262</td>\n",
       "      <td>26</td>\n",
       "    </tr>\n",
       "    <tr>\n",
       "      <th>10</th>\n",
       "      <td>0.008976</td>\n",
       "      <td>4.548504e-03</td>\n",
       "      <td>0.003790</td>\n",
       "      <td>7.461108e-04</td>\n",
       "      <td>5</td>\n",
       "      <td>0.3</td>\n",
       "      <td>{'max_depth': 5, 'max_features': 0.3}</td>\n",
       "      <td>0.772358</td>\n",
       "      <td>0.837398</td>\n",
       "      <td>0.772358</td>\n",
       "      <td>0.772358</td>\n",
       "      <td>0.827869</td>\n",
       "      <td>0.796468</td>\n",
       "      <td>0.029682</td>\n",
       "      <td>27</td>\n",
       "    </tr>\n",
       "    <tr>\n",
       "      <th>1</th>\n",
       "      <td>0.008777</td>\n",
       "      <td>9.764938e-04</td>\n",
       "      <td>0.003989</td>\n",
       "      <td>1.544618e-03</td>\n",
       "      <td>3</td>\n",
       "      <td>0.5</td>\n",
       "      <td>{'max_depth': 3, 'max_features': 0.5}</td>\n",
       "      <td>0.731707</td>\n",
       "      <td>0.837398</td>\n",
       "      <td>0.788618</td>\n",
       "      <td>0.796748</td>\n",
       "      <td>0.803279</td>\n",
       "      <td>0.791550</td>\n",
       "      <td>0.034224</td>\n",
       "      <td>28</td>\n",
       "    </tr>\n",
       "    <tr>\n",
       "      <th>30</th>\n",
       "      <td>0.010014</td>\n",
       "      <td>8.495885e-03</td>\n",
       "      <td>0.004147</td>\n",
       "      <td>2.415851e-03</td>\n",
       "      <td>9</td>\n",
       "      <td>0.3</td>\n",
       "      <td>{'max_depth': 9, 'max_features': 0.3}</td>\n",
       "      <td>0.813008</td>\n",
       "      <td>0.739837</td>\n",
       "      <td>0.772358</td>\n",
       "      <td>0.788618</td>\n",
       "      <td>0.811475</td>\n",
       "      <td>0.785059</td>\n",
       "      <td>0.027195</td>\n",
       "      <td>29</td>\n",
       "    </tr>\n",
       "    <tr>\n",
       "      <th>25</th>\n",
       "      <td>0.011569</td>\n",
       "      <td>7.688858e-03</td>\n",
       "      <td>0.003192</td>\n",
       "      <td>3.997805e-04</td>\n",
       "      <td>8</td>\n",
       "      <td>0.3</td>\n",
       "      <td>{'max_depth': 8, 'max_features': 0.3}</td>\n",
       "      <td>0.747967</td>\n",
       "      <td>0.747967</td>\n",
       "      <td>0.829268</td>\n",
       "      <td>0.813008</td>\n",
       "      <td>0.778689</td>\n",
       "      <td>0.783380</td>\n",
       "      <td>0.033207</td>\n",
       "      <td>30</td>\n",
       "    </tr>\n",
       "    <tr>\n",
       "      <th>35</th>\n",
       "      <td>0.006183</td>\n",
       "      <td>3.993514e-04</td>\n",
       "      <td>0.002992</td>\n",
       "      <td>2.780415e-07</td>\n",
       "      <td>10</td>\n",
       "      <td>0.3</td>\n",
       "      <td>{'max_depth': 10, 'max_features': 0.3}</td>\n",
       "      <td>0.747967</td>\n",
       "      <td>0.845528</td>\n",
       "      <td>0.772358</td>\n",
       "      <td>0.699187</td>\n",
       "      <td>0.803279</td>\n",
       "      <td>0.773664</td>\n",
       "      <td>0.049498</td>\n",
       "      <td>31</td>\n",
       "    </tr>\n",
       "    <tr>\n",
       "      <th>15</th>\n",
       "      <td>0.006784</td>\n",
       "      <td>1.161450e-03</td>\n",
       "      <td>0.005184</td>\n",
       "      <td>2.985057e-03</td>\n",
       "      <td>6</td>\n",
       "      <td>0.3</td>\n",
       "      <td>{'max_depth': 6, 'max_features': 0.3}</td>\n",
       "      <td>0.739837</td>\n",
       "      <td>0.747967</td>\n",
       "      <td>0.813008</td>\n",
       "      <td>0.731707</td>\n",
       "      <td>0.803279</td>\n",
       "      <td>0.767160</td>\n",
       "      <td>0.033995</td>\n",
       "      <td>32</td>\n",
       "    </tr>\n",
       "    <tr>\n",
       "      <th>40</th>\n",
       "      <td>0.012566</td>\n",
       "      <td>7.968302e-03</td>\n",
       "      <td>0.003192</td>\n",
       "      <td>3.988032e-04</td>\n",
       "      <td>11</td>\n",
       "      <td>0.3</td>\n",
       "      <td>{'max_depth': 11, 'max_features': 0.3}</td>\n",
       "      <td>0.756098</td>\n",
       "      <td>0.813008</td>\n",
       "      <td>0.739837</td>\n",
       "      <td>0.756098</td>\n",
       "      <td>0.713115</td>\n",
       "      <td>0.755631</td>\n",
       "      <td>0.032710</td>\n",
       "      <td>33</td>\n",
       "    </tr>\n",
       "    <tr>\n",
       "      <th>5</th>\n",
       "      <td>0.006382</td>\n",
       "      <td>4.892030e-04</td>\n",
       "      <td>0.007580</td>\n",
       "      <td>4.164998e-03</td>\n",
       "      <td>4</td>\n",
       "      <td>0.3</td>\n",
       "      <td>{'max_depth': 4, 'max_features': 0.3}</td>\n",
       "      <td>0.764228</td>\n",
       "      <td>0.731707</td>\n",
       "      <td>0.699187</td>\n",
       "      <td>0.772358</td>\n",
       "      <td>0.762295</td>\n",
       "      <td>0.745955</td>\n",
       "      <td>0.027160</td>\n",
       "      <td>34</td>\n",
       "    </tr>\n",
       "    <tr>\n",
       "      <th>34</th>\n",
       "      <td>0.005984</td>\n",
       "      <td>5.519789e-07</td>\n",
       "      <td>0.009175</td>\n",
       "      <td>1.236675e-02</td>\n",
       "      <td>9</td>\n",
       "      <td>1</td>\n",
       "      <td>{'max_depth': 9, 'max_features': 1}</td>\n",
       "      <td>0.731707</td>\n",
       "      <td>0.723577</td>\n",
       "      <td>0.723577</td>\n",
       "      <td>0.796748</td>\n",
       "      <td>0.696721</td>\n",
       "      <td>0.734466</td>\n",
       "      <td>0.033312</td>\n",
       "      <td>35</td>\n",
       "    </tr>\n",
       "    <tr>\n",
       "      <th>20</th>\n",
       "      <td>0.007777</td>\n",
       "      <td>2.224009e-03</td>\n",
       "      <td>0.003390</td>\n",
       "      <td>4.892630e-04</td>\n",
       "      <td>7</td>\n",
       "      <td>0.3</td>\n",
       "      <td>{'max_depth': 7, 'max_features': 0.3}</td>\n",
       "      <td>0.756098</td>\n",
       "      <td>0.739837</td>\n",
       "      <td>0.731707</td>\n",
       "      <td>0.666667</td>\n",
       "      <td>0.770492</td>\n",
       "      <td>0.732960</td>\n",
       "      <td>0.035743</td>\n",
       "      <td>36</td>\n",
       "    </tr>\n",
       "    <tr>\n",
       "      <th>29</th>\n",
       "      <td>0.006582</td>\n",
       "      <td>7.983210e-04</td>\n",
       "      <td>0.007380</td>\n",
       "      <td>8.775949e-03</td>\n",
       "      <td>8</td>\n",
       "      <td>1</td>\n",
       "      <td>{'max_depth': 8, 'max_features': 1}</td>\n",
       "      <td>0.756098</td>\n",
       "      <td>0.699187</td>\n",
       "      <td>0.682927</td>\n",
       "      <td>0.821138</td>\n",
       "      <td>0.680328</td>\n",
       "      <td>0.727935</td>\n",
       "      <td>0.054034</td>\n",
       "      <td>37</td>\n",
       "    </tr>\n",
       "    <tr>\n",
       "      <th>0</th>\n",
       "      <td>0.007779</td>\n",
       "      <td>3.987081e-04</td>\n",
       "      <td>0.003391</td>\n",
       "      <td>4.891815e-04</td>\n",
       "      <td>3</td>\n",
       "      <td>0.3</td>\n",
       "      <td>{'max_depth': 3, 'max_features': 0.3}</td>\n",
       "      <td>0.674797</td>\n",
       "      <td>0.747967</td>\n",
       "      <td>0.756098</td>\n",
       "      <td>0.715447</td>\n",
       "      <td>0.729508</td>\n",
       "      <td>0.724763</td>\n",
       "      <td>0.028727</td>\n",
       "      <td>38</td>\n",
       "    </tr>\n",
       "    <tr>\n",
       "      <th>24</th>\n",
       "      <td>0.009375</td>\n",
       "      <td>4.828691e-03</td>\n",
       "      <td>0.002793</td>\n",
       "      <td>3.989698e-04</td>\n",
       "      <td>7</td>\n",
       "      <td>1</td>\n",
       "      <td>{'max_depth': 7, 'max_features': 1}</td>\n",
       "      <td>0.715447</td>\n",
       "      <td>0.780488</td>\n",
       "      <td>0.682927</td>\n",
       "      <td>0.739837</td>\n",
       "      <td>0.688525</td>\n",
       "      <td>0.721445</td>\n",
       "      <td>0.035854</td>\n",
       "      <td>39</td>\n",
       "    </tr>\n",
       "    <tr>\n",
       "      <th>39</th>\n",
       "      <td>0.006142</td>\n",
       "      <td>7.051291e-04</td>\n",
       "      <td>0.004031</td>\n",
       "      <td>2.077675e-03</td>\n",
       "      <td>10</td>\n",
       "      <td>1</td>\n",
       "      <td>{'max_depth': 10, 'max_features': 1}</td>\n",
       "      <td>0.707317</td>\n",
       "      <td>0.772358</td>\n",
       "      <td>0.691057</td>\n",
       "      <td>0.764228</td>\n",
       "      <td>0.672131</td>\n",
       "      <td>0.721418</td>\n",
       "      <td>0.039943</td>\n",
       "      <td>40</td>\n",
       "    </tr>\n",
       "    <tr>\n",
       "      <th>44</th>\n",
       "      <td>0.007181</td>\n",
       "      <td>1.465279e-03</td>\n",
       "      <td>0.003990</td>\n",
       "      <td>1.994467e-03</td>\n",
       "      <td>11</td>\n",
       "      <td>1</td>\n",
       "      <td>{'max_depth': 11, 'max_features': 1}</td>\n",
       "      <td>0.739837</td>\n",
       "      <td>0.707317</td>\n",
       "      <td>0.682927</td>\n",
       "      <td>0.796748</td>\n",
       "      <td>0.655738</td>\n",
       "      <td>0.716513</td>\n",
       "      <td>0.048760</td>\n",
       "      <td>41</td>\n",
       "    </tr>\n",
       "    <tr>\n",
       "      <th>14</th>\n",
       "      <td>0.011771</td>\n",
       "      <td>9.152916e-03</td>\n",
       "      <td>0.009772</td>\n",
       "      <td>8.064057e-03</td>\n",
       "      <td>5</td>\n",
       "      <td>1</td>\n",
       "      <td>{'max_depth': 5, 'max_features': 1}</td>\n",
       "      <td>0.707317</td>\n",
       "      <td>0.674797</td>\n",
       "      <td>0.650407</td>\n",
       "      <td>0.804878</td>\n",
       "      <td>0.680328</td>\n",
       "      <td>0.703545</td>\n",
       "      <td>0.053799</td>\n",
       "      <td>42</td>\n",
       "    </tr>\n",
       "    <tr>\n",
       "      <th>19</th>\n",
       "      <td>0.008578</td>\n",
       "      <td>3.313534e-03</td>\n",
       "      <td>0.005584</td>\n",
       "      <td>3.762788e-03</td>\n",
       "      <td>6</td>\n",
       "      <td>1</td>\n",
       "      <td>{'max_depth': 6, 'max_features': 1}</td>\n",
       "      <td>0.707317</td>\n",
       "      <td>0.666667</td>\n",
       "      <td>0.650407</td>\n",
       "      <td>0.756098</td>\n",
       "      <td>0.655738</td>\n",
       "      <td>0.687245</td>\n",
       "      <td>0.039791</td>\n",
       "      <td>43</td>\n",
       "    </tr>\n",
       "    <tr>\n",
       "      <th>4</th>\n",
       "      <td>0.007380</td>\n",
       "      <td>1.850060e-03</td>\n",
       "      <td>0.003790</td>\n",
       "      <td>7.461621e-04</td>\n",
       "      <td>3</td>\n",
       "      <td>1</td>\n",
       "      <td>{'max_depth': 3, 'max_features': 1}</td>\n",
       "      <td>0.691057</td>\n",
       "      <td>0.642276</td>\n",
       "      <td>0.699187</td>\n",
       "      <td>0.723577</td>\n",
       "      <td>0.639344</td>\n",
       "      <td>0.679088</td>\n",
       "      <td>0.033049</td>\n",
       "      <td>44</td>\n",
       "    </tr>\n",
       "    <tr>\n",
       "      <th>9</th>\n",
       "      <td>0.006784</td>\n",
       "      <td>4.000703e-04</td>\n",
       "      <td>0.003389</td>\n",
       "      <td>4.896899e-04</td>\n",
       "      <td>4</td>\n",
       "      <td>1</td>\n",
       "      <td>{'max_depth': 4, 'max_features': 1}</td>\n",
       "      <td>0.650407</td>\n",
       "      <td>0.715447</td>\n",
       "      <td>0.699187</td>\n",
       "      <td>0.682927</td>\n",
       "      <td>0.631148</td>\n",
       "      <td>0.675823</td>\n",
       "      <td>0.031011</td>\n",
       "      <td>45</td>\n",
       "    </tr>\n",
       "  </tbody>\n",
       "</table>\n",
       "</div>"
      ],
      "text/plain": [
       "    mean_fit_time  std_fit_time  mean_score_time  std_score_time  \\\n",
       "26       0.007579  2.238706e-03         0.011569    1.129500e-02   \n",
       "21       0.006582  7.976895e-04         0.003192    3.987575e-04   \n",
       "16       0.012167  4.477786e-03         0.004987    3.512130e-03   \n",
       "43       0.010172  6.383371e-03         0.008178    7.091011e-03   \n",
       "36       0.012167  1.287156e-02         0.002793    3.990412e-04   \n",
       "33       0.007621  2.210713e-03         0.002751    3.864571e-04   \n",
       "38       0.010372  5.224470e-03         0.002992    6.143617e-07   \n",
       "11       0.013762  8.884342e-03         0.004785    3.592064e-03   \n",
       "18       0.008976  2.523098e-03         0.007381    5.802122e-03   \n",
       "12       0.007982  1.411556e-03         0.011167    1.389827e-02   \n",
       "8        0.007577  4.908851e-04         0.003791    1.162990e-03   \n",
       "13       0.017956  1.370619e-02         0.003586    4.844745e-04   \n",
       "27       0.006782  7.471187e-04         0.003789    1.163171e-03   \n",
       "31       0.007181  2.474754e-03         0.003191    3.991608e-04   \n",
       "28       0.012965  1.003307e-02         0.003990    1.092536e-03   \n",
       "42       0.014561  1.232212e-02         0.002793    3.992082e-04   \n",
       "32       0.016356  1.826627e-02         0.009176    1.087780e-02   \n",
       "22       0.024733  2.626885e-02         0.004389    2.326712e-03   \n",
       "7        0.007781  7.463939e-04         0.003589    4.859262e-04   \n",
       "6        0.007181  9.765518e-04         0.003194    4.028330e-04   \n",
       "17       0.009973  2.958790e-03         0.006782    2.778283e-03   \n",
       "23       0.016955  1.465701e-02         0.009973    1.396322e-02   \n",
       "41       0.007181  9.773891e-04         0.011768    1.805580e-02   \n",
       "37       0.011170  8.401441e-03         0.002992    1.784161e-07   \n",
       "3        0.009577  4.708151e-03         0.004586    2.716016e-03   \n",
       "2        0.008577  3.254136e-03         0.003990    1.092319e-03   \n",
       "10       0.008976  4.548504e-03         0.003790    7.461108e-04   \n",
       "1        0.008777  9.764938e-04         0.003989    1.544618e-03   \n",
       "30       0.010014  8.495885e-03         0.004147    2.415851e-03   \n",
       "25       0.011569  7.688858e-03         0.003192    3.997805e-04   \n",
       "35       0.006183  3.993514e-04         0.002992    2.780415e-07   \n",
       "15       0.006784  1.161450e-03         0.005184    2.985057e-03   \n",
       "40       0.012566  7.968302e-03         0.003192    3.988032e-04   \n",
       "5        0.006382  4.892030e-04         0.007580    4.164998e-03   \n",
       "34       0.005984  5.519789e-07         0.009175    1.236675e-02   \n",
       "20       0.007777  2.224009e-03         0.003390    4.892630e-04   \n",
       "29       0.006582  7.983210e-04         0.007380    8.775949e-03   \n",
       "0        0.007779  3.987081e-04         0.003391    4.891815e-04   \n",
       "24       0.009375  4.828691e-03         0.002793    3.989698e-04   \n",
       "39       0.006142  7.051291e-04         0.004031    2.077675e-03   \n",
       "44       0.007181  1.465279e-03         0.003990    1.994467e-03   \n",
       "14       0.011771  9.152916e-03         0.009772    8.064057e-03   \n",
       "19       0.008578  3.313534e-03         0.005584    3.762788e-03   \n",
       "4        0.007380  1.850060e-03         0.003790    7.461621e-04   \n",
       "9        0.006784  4.000703e-04         0.003389    4.896899e-04   \n",
       "\n",
       "   param_max_depth param_max_features                                  params  \\\n",
       "26               8                0.5   {'max_depth': 8, 'max_features': 0.5}   \n",
       "21               7                0.5   {'max_depth': 7, 'max_features': 0.5}   \n",
       "16               6                0.5   {'max_depth': 6, 'max_features': 0.5}   \n",
       "43              11                0.9  {'max_depth': 11, 'max_features': 0.9}   \n",
       "36              10                0.5  {'max_depth': 10, 'max_features': 0.5}   \n",
       "33               9                0.9   {'max_depth': 9, 'max_features': 0.9}   \n",
       "38              10                0.9  {'max_depth': 10, 'max_features': 0.9}   \n",
       "11               5                0.5   {'max_depth': 5, 'max_features': 0.5}   \n",
       "18               6                0.9   {'max_depth': 6, 'max_features': 0.9}   \n",
       "12               5                0.7   {'max_depth': 5, 'max_features': 0.7}   \n",
       "8                4                0.9   {'max_depth': 4, 'max_features': 0.9}   \n",
       "13               5                0.9   {'max_depth': 5, 'max_features': 0.9}   \n",
       "27               8                0.7   {'max_depth': 8, 'max_features': 0.7}   \n",
       "31               9                0.5   {'max_depth': 9, 'max_features': 0.5}   \n",
       "28               8                0.9   {'max_depth': 8, 'max_features': 0.9}   \n",
       "42              11                0.7  {'max_depth': 11, 'max_features': 0.7}   \n",
       "32               9                0.7   {'max_depth': 9, 'max_features': 0.7}   \n",
       "22               7                0.7   {'max_depth': 7, 'max_features': 0.7}   \n",
       "7                4                0.7   {'max_depth': 4, 'max_features': 0.7}   \n",
       "6                4                0.5   {'max_depth': 4, 'max_features': 0.5}   \n",
       "17               6                0.7   {'max_depth': 6, 'max_features': 0.7}   \n",
       "23               7                0.9   {'max_depth': 7, 'max_features': 0.9}   \n",
       "41              11                0.5  {'max_depth': 11, 'max_features': 0.5}   \n",
       "37              10                0.7  {'max_depth': 10, 'max_features': 0.7}   \n",
       "3                3                0.9   {'max_depth': 3, 'max_features': 0.9}   \n",
       "2                3                0.7   {'max_depth': 3, 'max_features': 0.7}   \n",
       "10               5                0.3   {'max_depth': 5, 'max_features': 0.3}   \n",
       "1                3                0.5   {'max_depth': 3, 'max_features': 0.5}   \n",
       "30               9                0.3   {'max_depth': 9, 'max_features': 0.3}   \n",
       "25               8                0.3   {'max_depth': 8, 'max_features': 0.3}   \n",
       "35              10                0.3  {'max_depth': 10, 'max_features': 0.3}   \n",
       "15               6                0.3   {'max_depth': 6, 'max_features': 0.3}   \n",
       "40              11                0.3  {'max_depth': 11, 'max_features': 0.3}   \n",
       "5                4                0.3   {'max_depth': 4, 'max_features': 0.3}   \n",
       "34               9                  1     {'max_depth': 9, 'max_features': 1}   \n",
       "20               7                0.3   {'max_depth': 7, 'max_features': 0.3}   \n",
       "29               8                  1     {'max_depth': 8, 'max_features': 1}   \n",
       "0                3                0.3   {'max_depth': 3, 'max_features': 0.3}   \n",
       "24               7                  1     {'max_depth': 7, 'max_features': 1}   \n",
       "39              10                  1    {'max_depth': 10, 'max_features': 1}   \n",
       "44              11                  1    {'max_depth': 11, 'max_features': 1}   \n",
       "14               5                  1     {'max_depth': 5, 'max_features': 1}   \n",
       "19               6                  1     {'max_depth': 6, 'max_features': 1}   \n",
       "4                3                  1     {'max_depth': 3, 'max_features': 1}   \n",
       "9                4                  1     {'max_depth': 4, 'max_features': 1}   \n",
       "\n",
       "    split0_test_score  split1_test_score  split2_test_score  \\\n",
       "26           0.821138           0.894309           0.821138   \n",
       "21           0.845528           0.918699           0.837398   \n",
       "16           0.837398           0.910569           0.829268   \n",
       "43           0.886179           0.910569           0.796748   \n",
       "36           0.853659           0.918699           0.772358   \n",
       "33           0.878049           0.910569           0.796748   \n",
       "38           0.853659           0.910569           0.796748   \n",
       "11           0.845528           0.878049           0.853659   \n",
       "18           0.837398           0.894309           0.804878   \n",
       "12           0.861789           0.878049           0.804878   \n",
       "8            0.788618           0.918699           0.853659   \n",
       "13           0.853659           0.845528           0.821138   \n",
       "27           0.869919           0.845528           0.788618   \n",
       "31           0.804878           0.918699           0.764228   \n",
       "28           0.869919           0.886179           0.813008   \n",
       "42           0.869919           0.853659           0.788618   \n",
       "32           0.853659           0.845528           0.788618   \n",
       "22           0.829268           0.886179           0.788618   \n",
       "7            0.788618           0.886179           0.821138   \n",
       "6            0.837398           0.853659           0.764228   \n",
       "17           0.821138           0.861789           0.813008   \n",
       "23           0.837398           0.878049           0.764228   \n",
       "41           0.780488           0.894309           0.788618   \n",
       "37           0.837398           0.829268           0.788618   \n",
       "3            0.804878           0.821138           0.796748   \n",
       "2            0.796748           0.829268           0.764228   \n",
       "10           0.772358           0.837398           0.772358   \n",
       "1            0.731707           0.837398           0.788618   \n",
       "30           0.813008           0.739837           0.772358   \n",
       "25           0.747967           0.747967           0.829268   \n",
       "35           0.747967           0.845528           0.772358   \n",
       "15           0.739837           0.747967           0.813008   \n",
       "40           0.756098           0.813008           0.739837   \n",
       "5            0.764228           0.731707           0.699187   \n",
       "34           0.731707           0.723577           0.723577   \n",
       "20           0.756098           0.739837           0.731707   \n",
       "29           0.756098           0.699187           0.682927   \n",
       "0            0.674797           0.747967           0.756098   \n",
       "24           0.715447           0.780488           0.682927   \n",
       "39           0.707317           0.772358           0.691057   \n",
       "44           0.739837           0.707317           0.682927   \n",
       "14           0.707317           0.674797           0.650407   \n",
       "19           0.707317           0.666667           0.650407   \n",
       "4            0.691057           0.642276           0.699187   \n",
       "9            0.650407           0.715447           0.699187   \n",
       "\n",
       "    split3_test_score  split4_test_score  mean_test_score  std_test_score  \\\n",
       "26           0.902439           0.868852         0.861575        0.034827   \n",
       "21           0.829268           0.860656         0.858310        0.031926   \n",
       "16           0.869919           0.836066         0.856644        0.030422   \n",
       "43           0.837398           0.844262         0.855031        0.039695   \n",
       "36           0.869919           0.852459         0.853419        0.047129   \n",
       "33           0.837398           0.844262         0.853405        0.038535   \n",
       "38           0.861789           0.844262         0.853405        0.036419   \n",
       "11           0.845528           0.844262         0.853405        0.012768   \n",
       "18           0.829268           0.893443         0.851859        0.035938   \n",
       "12           0.837398           0.877049         0.851833        0.027696   \n",
       "8            0.829268           0.860656         0.850180        0.042530   \n",
       "13           0.869919           0.836066         0.845262        0.016402   \n",
       "27           0.853659           0.860656         0.843676        0.028676   \n",
       "31           0.886179           0.844262         0.843649        0.055232   \n",
       "28           0.813008           0.836066         0.843636        0.029780   \n",
       "42           0.853659           0.844262         0.842023        0.027950   \n",
       "32           0.894309           0.827869         0.841997        0.034450   \n",
       "22           0.845528           0.844262         0.838771        0.031397   \n",
       "7            0.829268           0.860656         0.837172        0.033557   \n",
       "6            0.861789           0.852459         0.833906        0.035719   \n",
       "17           0.829268           0.844262         0.833893        0.017355   \n",
       "23           0.821138           0.860656         0.832294        0.039195   \n",
       "41           0.821138           0.844262         0.825763        0.041211   \n",
       "37           0.837398           0.795082         0.817553        0.021294   \n",
       "3            0.837398           0.811475         0.814328        0.014037   \n",
       "2            0.829268           0.811475         0.806198        0.024262   \n",
       "10           0.772358           0.827869         0.796468        0.029682   \n",
       "1            0.796748           0.803279         0.791550        0.034224   \n",
       "30           0.788618           0.811475         0.785059        0.027195   \n",
       "25           0.813008           0.778689         0.783380        0.033207   \n",
       "35           0.699187           0.803279         0.773664        0.049498   \n",
       "15           0.731707           0.803279         0.767160        0.033995   \n",
       "40           0.756098           0.713115         0.755631        0.032710   \n",
       "5            0.772358           0.762295         0.745955        0.027160   \n",
       "34           0.796748           0.696721         0.734466        0.033312   \n",
       "20           0.666667           0.770492         0.732960        0.035743   \n",
       "29           0.821138           0.680328         0.727935        0.054034   \n",
       "0            0.715447           0.729508         0.724763        0.028727   \n",
       "24           0.739837           0.688525         0.721445        0.035854   \n",
       "39           0.764228           0.672131         0.721418        0.039943   \n",
       "44           0.796748           0.655738         0.716513        0.048760   \n",
       "14           0.804878           0.680328         0.703545        0.053799   \n",
       "19           0.756098           0.655738         0.687245        0.039791   \n",
       "4            0.723577           0.639344         0.679088        0.033049   \n",
       "9            0.682927           0.631148         0.675823        0.031011   \n",
       "\n",
       "    rank_test_score  \n",
       "26                1  \n",
       "21                2  \n",
       "16                3  \n",
       "43                4  \n",
       "36                5  \n",
       "33                6  \n",
       "38                6  \n",
       "11                6  \n",
       "18                9  \n",
       "12               10  \n",
       "8                11  \n",
       "13               12  \n",
       "27               13  \n",
       "31               14  \n",
       "28               15  \n",
       "42               16  \n",
       "32               17  \n",
       "22               18  \n",
       "7                19  \n",
       "6                20  \n",
       "17               21  \n",
       "23               22  \n",
       "41               23  \n",
       "37               24  \n",
       "3                25  \n",
       "2                26  \n",
       "10               27  \n",
       "1                28  \n",
       "30               29  \n",
       "25               30  \n",
       "35               31  \n",
       "15               32  \n",
       "40               33  \n",
       "5                34  \n",
       "34               35  \n",
       "20               36  \n",
       "29               37  \n",
       "0                38  \n",
       "24               39  \n",
       "39               40  \n",
       "44               41  \n",
       "14               42  \n",
       "19               43  \n",
       "4                44  \n",
       "9                45  "
      ]
     },
     "execution_count": 27,
     "metadata": {},
     "output_type": "execute_result"
    }
   ],
   "source": [
    "pd.DataFrame(clf.cv_results_).sort_values(by='rank_test_score')"
   ]
  },
  {
   "cell_type": "code",
   "execution_count": 28,
   "metadata": {},
   "outputs": [
    {
     "data": {
      "text/plain": [
       "array([1, 0, 0, 0, 0, 1, 0, 0, 0, 0, 1, 0, 0, 1, 0, 0, 0, 0, 1, 0, 0, 0,\n",
       "       0, 0, 0, 1, 0, 0, 0, 0, 1, 1, 1, 1, 0, 0, 1, 1, 0, 1, 0, 0, 0, 1,\n",
       "       0, 1, 1, 0, 0, 1, 0, 1, 1, 1, 0, 0, 0, 0, 0, 1, 1, 0, 1, 1, 0, 0,\n",
       "       0, 1, 0, 1, 0, 0, 0, 0, 0, 0, 0, 0, 0, 0, 1, 0, 0, 1, 1, 1, 1, 0,\n",
       "       0, 0, 0, 0, 0, 1, 0, 0, 0, 0, 0, 0, 1, 0, 1, 0, 1, 0, 0, 1, 0, 1,\n",
       "       0, 0, 0, 1, 1, 0, 1, 0, 0, 0, 0, 0, 1, 1, 0, 0, 1, 1, 1, 0, 1, 1,\n",
       "       0, 1, 1, 0, 1, 1, 1, 0, 0, 0, 0, 0, 0, 0, 1, 0, 0, 1, 0, 0, 0, 0],\n",
       "      dtype=int64)"
      ]
     },
     "execution_count": 28,
     "metadata": {},
     "output_type": "execute_result"
    }
   ],
   "source": [
    "clf.predict(X_test)"
   ]
  },
  {
   "cell_type": "code",
   "execution_count": 29,
   "metadata": {},
   "outputs": [
    {
     "data": {
      "text/plain": [
       "0.8636363636363636"
      ]
     },
     "execution_count": 29,
     "metadata": {},
     "output_type": "execute_result"
    }
   ],
   "source": [
    "clf.score(X_test,y_test)"
   ]
  },
  {
   "cell_type": "markdown",
   "metadata": {},
   "source": [
    "# -----"
   ]
  },
  {
   "cell_type": "code",
   "execution_count": 30,
   "metadata": {},
   "outputs": [],
   "source": [
    "param_distributions={'max_depth':range(2,20),\n",
    "                    'max_features':[0.1,0.3,0.5,0.7,0.9,1.0]}"
   ]
  },
  {
   "cell_type": "code",
   "execution_count": 31,
   "metadata": {},
   "outputs": [
    {
     "data": {
      "text/plain": [
       "RandomizedSearchCV(cv=5, estimator=DecisionTreeClassifier(random_state=42),\n",
       "                   n_jobs=-1,\n",
       "                   param_distributions={'max_depth': range(2, 20),\n",
       "                                        'max_features': [0.1, 0.3, 0.5, 0.7,\n",
       "                                                         0.9, 1.0]},\n",
       "                   random_state=42, scoring='accuracy')"
      ]
     },
     "execution_count": 31,
     "metadata": {},
     "output_type": "execute_result"
    }
   ],
   "source": [
    "# GridSearch 대신 RandomSearch이용해보기\n",
    "\n",
    "from sklearn.model_selection import RandomizedSearchCV\n",
    "\n",
    "clf=RandomizedSearchCV(model,\n",
    "                  param_distributions=param_distributions,\n",
    "                  n_iter=10,\n",
    "                  scoring='accuracy',\n",
    "                  n_jobs=-1,\n",
    "                  cv=5,\n",
    "                  random_state=42)\n",
    "\n",
    "clf.fit(X_train,y_train)"
   ]
  },
  {
   "cell_type": "code",
   "execution_count": 32,
   "metadata": {},
   "outputs": [
    {
     "data": {
      "text/plain": [
       "{'max_features': 1.0, 'max_depth': 14}"
      ]
     },
     "execution_count": 32,
     "metadata": {},
     "output_type": "execute_result"
    }
   ],
   "source": [
    "clf.best_params_"
   ]
  },
  {
   "cell_type": "code",
   "execution_count": 33,
   "metadata": {},
   "outputs": [
    {
     "data": {
      "text/plain": [
       "0.856710649073704"
      ]
     },
     "execution_count": 33,
     "metadata": {},
     "output_type": "execute_result"
    }
   ],
   "source": [
    "clf.best_score_\n",
    "# -> 아직까지는 GridSearch와 RandomSearch의 차이를 모르겠음"
   ]
  },
  {
   "cell_type": "code",
   "execution_count": 42,
   "metadata": {},
   "outputs": [],
   "source": [
    "# 원래는 (1,20,10),(0.4,1.0,100)이었는데 cv_results_보고 수정\n",
    "max_depth=np.random.randint(3,20,10)\n",
    "max_features=np.random.uniform(0.7,1.0,100)"
   ]
  },
  {
   "cell_type": "code",
   "execution_count": 43,
   "metadata": {},
   "outputs": [],
   "source": [
    "param_distributions={'max_depth':max_depth,\n",
    "                    'max_features':max_features,\n",
    "                    'min_samples_split':list(range(2,7))}"
   ]
  },
  {
   "cell_type": "code",
   "execution_count": 49,
   "metadata": {},
   "outputs": [
    {
     "data": {
      "text/plain": [
       "RandomizedSearchCV(cv=5, estimator=DecisionTreeClassifier(random_state=42),\n",
       "                   n_iter=1000, n_jobs=-1,\n",
       "                   param_distributions={'max_depth': array([10,  6, 18,  5, 11, 18,  4,  8, 10, 19]),\n",
       "                                        'max_features': array([0.74133434, 0.78843216, 0.71757284, 0.90368348, 0.86554234,\n",
       "       0.88042417, 0.70661184, 0.77790386, 0.88208212, 0.97660948,\n",
       "       0.8200252 , 0.89971843, 0.75958445, 0.73343071, 0.99303781,...\n",
       "       0.83932533, 0.88317023, 0.74760872, 0.79858849, 0.80711127,\n",
       "       0.94642312, 0.91803408, 0.75929115, 0.91816942, 0.78085327,\n",
       "       0.79205421, 0.90203173, 0.73143988, 0.79148338, 0.85395071,\n",
       "       0.99460965, 0.88192019, 0.93227546, 0.84055919, 0.94902696,\n",
       "       0.84183586, 0.7789361 , 0.92445707, 0.71815515, 0.97259193,\n",
       "       0.95372048, 0.89170389, 0.73702478, 0.96249504, 0.85286287]),\n",
       "                                        'min_samples_split': [2, 3, 4, 5, 6]},\n",
       "                   random_state=42, scoring='accuracy')"
      ]
     },
     "execution_count": 49,
     "metadata": {},
     "output_type": "execute_result"
    }
   ],
   "source": [
    "from sklearn.model_selection import RandomizedSearchCV\n",
    "# n_iter=100 -> 1000\n",
    "clf=RandomizedSearchCV(model,\n",
    "                  param_distributions=param_distributions,\n",
    "                  n_iter=1000,\n",
    "                  scoring='accuracy',\n",
    "                  n_jobs=-1,\n",
    "                  cv=5,\n",
    "                  random_state=42)\n",
    "\n",
    "clf.fit(X_train,y_train)"
   ]
  },
  {
   "cell_type": "code",
   "execution_count": 50,
   "metadata": {},
   "outputs": [
    {
     "data": {
      "text/plain": [
       "{'min_samples_split': 2, 'max_features': 0.7808532700268088, 'max_depth': 10}"
      ]
     },
     "execution_count": 50,
     "metadata": {},
     "output_type": "execute_result"
    }
   ],
   "source": [
    "clf.best_params_"
   ]
  },
  {
   "cell_type": "code",
   "execution_count": 51,
   "metadata": {},
   "outputs": [
    {
     "data": {
      "text/plain": [
       "0.8713181394109023"
      ]
     },
     "execution_count": 51,
     "metadata": {},
     "output_type": "execute_result"
    }
   ],
   "source": [
    "clf.best_score_"
   ]
  },
  {
   "cell_type": "code",
   "execution_count": 52,
   "metadata": {},
   "outputs": [
    {
     "data": {
      "text/plain": [
       "0.8116883116883117"
      ]
     },
     "execution_count": 52,
     "metadata": {},
     "output_type": "execute_result"
    }
   ],
   "source": [
    "clf.score(X_test,y_test)\n",
    "# -> 강의자는 80%후반의 정확도가 나왔지만 나는 더 낮음"
   ]
  },
  {
   "cell_type": "code",
   "execution_count": 53,
   "metadata": {},
   "outputs": [
    {
     "data": {
      "text/html": [
       "<div>\n",
       "<style scoped>\n",
       "    .dataframe tbody tr th:only-of-type {\n",
       "        vertical-align: middle;\n",
       "    }\n",
       "\n",
       "    .dataframe tbody tr th {\n",
       "        vertical-align: top;\n",
       "    }\n",
       "\n",
       "    .dataframe thead th {\n",
       "        text-align: right;\n",
       "    }\n",
       "</style>\n",
       "<table border=\"1\" class=\"dataframe\">\n",
       "  <thead>\n",
       "    <tr style=\"text-align: right;\">\n",
       "      <th></th>\n",
       "      <th>mean_fit_time</th>\n",
       "      <th>std_fit_time</th>\n",
       "      <th>mean_score_time</th>\n",
       "      <th>std_score_time</th>\n",
       "      <th>param_min_samples_split</th>\n",
       "      <th>param_max_features</th>\n",
       "      <th>param_max_depth</th>\n",
       "      <th>params</th>\n",
       "      <th>split0_test_score</th>\n",
       "      <th>split1_test_score</th>\n",
       "      <th>split2_test_score</th>\n",
       "      <th>split3_test_score</th>\n",
       "      <th>split4_test_score</th>\n",
       "      <th>mean_test_score</th>\n",
       "      <th>std_test_score</th>\n",
       "      <th>rank_test_score</th>\n",
       "    </tr>\n",
       "  </thead>\n",
       "  <tbody>\n",
       "    <tr>\n",
       "      <th>782</th>\n",
       "      <td>0.013364</td>\n",
       "      <td>0.008677</td>\n",
       "      <td>0.005412</td>\n",
       "      <td>0.003494</td>\n",
       "      <td>2</td>\n",
       "      <td>0.777904</td>\n",
       "      <td>10</td>\n",
       "      <td>{'min_samples_split': 2, 'max_features': 0.777...</td>\n",
       "      <td>0.853659</td>\n",
       "      <td>0.918699</td>\n",
       "      <td>0.878049</td>\n",
       "      <td>0.845528</td>\n",
       "      <td>0.860656</td>\n",
       "      <td>0.871318</td>\n",
       "      <td>0.026004</td>\n",
       "      <td>1</td>\n",
       "    </tr>\n",
       "    <tr>\n",
       "      <th>686</th>\n",
       "      <td>0.007082</td>\n",
       "      <td>0.000664</td>\n",
       "      <td>0.003326</td>\n",
       "      <td>0.000393</td>\n",
       "      <td>2</td>\n",
       "      <td>0.858932</td>\n",
       "      <td>10</td>\n",
       "      <td>{'min_samples_split': 2, 'max_features': 0.858...</td>\n",
       "      <td>0.853659</td>\n",
       "      <td>0.918699</td>\n",
       "      <td>0.878049</td>\n",
       "      <td>0.845528</td>\n",
       "      <td>0.860656</td>\n",
       "      <td>0.871318</td>\n",
       "      <td>0.026004</td>\n",
       "      <td>1</td>\n",
       "    </tr>\n",
       "    <tr>\n",
       "      <th>517</th>\n",
       "      <td>0.007668</td>\n",
       "      <td>0.000756</td>\n",
       "      <td>0.007097</td>\n",
       "      <td>0.005466</td>\n",
       "      <td>2</td>\n",
       "      <td>0.827988</td>\n",
       "      <td>10</td>\n",
       "      <td>{'min_samples_split': 2, 'max_features': 0.827...</td>\n",
       "      <td>0.853659</td>\n",
       "      <td>0.918699</td>\n",
       "      <td>0.878049</td>\n",
       "      <td>0.845528</td>\n",
       "      <td>0.860656</td>\n",
       "      <td>0.871318</td>\n",
       "      <td>0.026004</td>\n",
       "      <td>1</td>\n",
       "    </tr>\n",
       "    <tr>\n",
       "      <th>353</th>\n",
       "      <td>0.014672</td>\n",
       "      <td>0.013134</td>\n",
       "      <td>0.003990</td>\n",
       "      <td>0.001092</td>\n",
       "      <td>2</td>\n",
       "      <td>0.786474</td>\n",
       "      <td>10</td>\n",
       "      <td>{'min_samples_split': 2, 'max_features': 0.786...</td>\n",
       "      <td>0.853659</td>\n",
       "      <td>0.918699</td>\n",
       "      <td>0.878049</td>\n",
       "      <td>0.845528</td>\n",
       "      <td>0.860656</td>\n",
       "      <td>0.871318</td>\n",
       "      <td>0.026004</td>\n",
       "      <td>1</td>\n",
       "    </tr>\n",
       "    <tr>\n",
       "      <th>955</th>\n",
       "      <td>0.008584</td>\n",
       "      <td>0.001028</td>\n",
       "      <td>0.003696</td>\n",
       "      <td>0.000607</td>\n",
       "      <td>2</td>\n",
       "      <td>0.841836</td>\n",
       "      <td>10</td>\n",
       "      <td>{'min_samples_split': 2, 'max_features': 0.841...</td>\n",
       "      <td>0.853659</td>\n",
       "      <td>0.918699</td>\n",
       "      <td>0.878049</td>\n",
       "      <td>0.845528</td>\n",
       "      <td>0.860656</td>\n",
       "      <td>0.871318</td>\n",
       "      <td>0.026004</td>\n",
       "      <td>1</td>\n",
       "    </tr>\n",
       "  </tbody>\n",
       "</table>\n",
       "</div>"
      ],
      "text/plain": [
       "     mean_fit_time  std_fit_time  mean_score_time  std_score_time  \\\n",
       "782       0.013364      0.008677         0.005412        0.003494   \n",
       "686       0.007082      0.000664         0.003326        0.000393   \n",
       "517       0.007668      0.000756         0.007097        0.005466   \n",
       "353       0.014672      0.013134         0.003990        0.001092   \n",
       "955       0.008584      0.001028         0.003696        0.000607   \n",
       "\n",
       "    param_min_samples_split param_max_features param_max_depth  \\\n",
       "782                       2           0.777904              10   \n",
       "686                       2           0.858932              10   \n",
       "517                       2           0.827988              10   \n",
       "353                       2           0.786474              10   \n",
       "955                       2           0.841836              10   \n",
       "\n",
       "                                                params  split0_test_score  \\\n",
       "782  {'min_samples_split': 2, 'max_features': 0.777...           0.853659   \n",
       "686  {'min_samples_split': 2, 'max_features': 0.858...           0.853659   \n",
       "517  {'min_samples_split': 2, 'max_features': 0.827...           0.853659   \n",
       "353  {'min_samples_split': 2, 'max_features': 0.786...           0.853659   \n",
       "955  {'min_samples_split': 2, 'max_features': 0.841...           0.853659   \n",
       "\n",
       "     split1_test_score  split2_test_score  split3_test_score  \\\n",
       "782           0.918699           0.878049           0.845528   \n",
       "686           0.918699           0.878049           0.845528   \n",
       "517           0.918699           0.878049           0.845528   \n",
       "353           0.918699           0.878049           0.845528   \n",
       "955           0.918699           0.878049           0.845528   \n",
       "\n",
       "     split4_test_score  mean_test_score  std_test_score  rank_test_score  \n",
       "782           0.860656         0.871318        0.026004                1  \n",
       "686           0.860656         0.871318        0.026004                1  \n",
       "517           0.860656         0.871318        0.026004                1  \n",
       "353           0.860656         0.871318        0.026004                1  \n",
       "955           0.860656         0.871318        0.026004                1  "
      ]
     },
     "execution_count": 53,
     "metadata": {},
     "output_type": "execute_result"
    }
   ],
   "source": [
    "pd.DataFrame(clf.cv_results_).sort_values(by='rank_test_score').head()"
   ]
  },
  {
   "cell_type": "markdown",
   "metadata": {},
   "source": [
    "# -----"
   ]
  },
  {
   "cell_type": "code",
   "execution_count": 12,
   "metadata": {},
   "outputs": [
    {
     "data": {
      "text/plain": [
       "DecisionTreeClassifier(random_state=42)"
      ]
     },
     "execution_count": 12,
     "metadata": {},
     "output_type": "execute_result"
    }
   ],
   "source": [
    "# single tree\n",
    "from sklearn.tree import DecisionTreeClassifier\n",
    "\n",
    "model=DecisionTreeClassifier(random_state=42)\n",
    "model"
   ]
  },
  {
   "cell_type": "code",
   "execution_count": 13,
   "metadata": {},
   "outputs": [
    {
     "data": {
      "text/plain": [
       "DecisionTreeClassifier(random_state=42)"
      ]
     },
     "execution_count": 13,
     "metadata": {},
     "output_type": "execute_result"
    }
   ],
   "source": [
    "model.fit(X_train,y_train)"
   ]
  },
  {
   "cell_type": "code",
   "execution_count": 15,
   "metadata": {},
   "outputs": [],
   "source": [
    "y_pred=model.predict(X_test)"
   ]
  },
  {
   "cell_type": "code",
   "execution_count": 16,
   "metadata": {},
   "outputs": [
    {
     "data": {
      "text/plain": [
       "0.8051948051948052"
      ]
     },
     "execution_count": 16,
     "metadata": {},
     "output_type": "execute_result"
    }
   ],
   "source": [
    "(y_pred==y_test).mean()"
   ]
  },
  {
   "cell_type": "code",
   "execution_count": 17,
   "metadata": {},
   "outputs": [
    {
     "data": {
      "text/plain": [
       "RandomForestClassifier(random_state=42)"
      ]
     },
     "execution_count": 17,
     "metadata": {},
     "output_type": "execute_result"
    }
   ],
   "source": [
    "# 이제는 DecisionTree가 아닌 앙상블기법을 사용\n",
    "# 데이터를 샘플링하여 여러개의 트리를 그리는 것 = Random Forest(bootstrap,bagging)\n",
    "\n",
    "from sklearn.ensemble import RandomForestClassifier\n",
    "\n",
    "model=RandomForestClassifier(random_state=42)\n",
    "model"
   ]
  },
  {
   "cell_type": "code",
   "execution_count": 18,
   "metadata": {},
   "outputs": [
    {
     "data": {
      "text/plain": [
       "RandomForestClassifier(random_state=42)"
      ]
     },
     "execution_count": 18,
     "metadata": {},
     "output_type": "execute_result"
    }
   ],
   "source": [
    "model.fit(X_train,y_train)"
   ]
  },
  {
   "cell_type": "code",
   "execution_count": 19,
   "metadata": {},
   "outputs": [],
   "source": [
    "y_pred=model.predict(X_test)"
   ]
  },
  {
   "cell_type": "code",
   "execution_count": 20,
   "metadata": {},
   "outputs": [
    {
     "data": {
      "text/plain": [
       "0.8766233766233766"
      ]
     },
     "execution_count": 20,
     "metadata": {},
     "output_type": "execute_result"
    }
   ],
   "source": [
    "(y_pred==y_test).mean()\n",
    "# -> 더 좋은 성능"
   ]
  },
  {
   "cell_type": "markdown",
   "metadata": {},
   "source": [
    "# ------"
   ]
  },
  {
   "cell_type": "code",
   "execution_count": 21,
   "metadata": {},
   "outputs": [
    {
     "data": {
      "text/plain": [
       "GradientBoostingClassifier(random_state=42)"
      ]
     },
     "execution_count": 21,
     "metadata": {},
     "output_type": "execute_result"
    }
   ],
   "source": [
    "# 이번엔 bagging말고 boosting이용\n",
    "# bagging + 가중치\n",
    "\n",
    "from sklearn.ensemble import GradientBoostingClassifier\n",
    "\n",
    "model=GradientBoostingClassifier(random_state=42)\n",
    "model"
   ]
  },
  {
   "cell_type": "code",
   "execution_count": 22,
   "metadata": {},
   "outputs": [
    {
     "data": {
      "text/plain": [
       "GradientBoostingClassifier(random_state=42)"
      ]
     },
     "execution_count": 22,
     "metadata": {},
     "output_type": "execute_result"
    }
   ],
   "source": [
    "model.fit(X_train,y_train)"
   ]
  },
  {
   "cell_type": "code",
   "execution_count": 23,
   "metadata": {},
   "outputs": [],
   "source": [
    "y_pred=model.predict(X_test)"
   ]
  },
  {
   "cell_type": "code",
   "execution_count": 24,
   "metadata": {},
   "outputs": [
    {
     "data": {
      "text/plain": [
       "0.8701298701298701"
      ]
     },
     "execution_count": 24,
     "metadata": {},
     "output_type": "execute_result"
    }
   ],
   "source": [
    "(y_pred==y_test).mean()"
   ]
  },
  {
   "cell_type": "markdown",
   "metadata": {},
   "source": [
    "# -----"
   ]
  },
  {
   "cell_type": "code",
   "execution_count": 25,
   "metadata": {},
   "outputs": [],
   "source": [
    "# 여러개의 알고리즘을 사용해서 비교하기\n",
    "\n",
    "from sklearn.model_selection import RandomizedSearchCV\n",
    "\n",
    "RandomizedSearchCV?"
   ]
  },
  {
   "cell_type": "code",
   "execution_count": 33,
   "metadata": {},
   "outputs": [
    {
     "data": {
      "text/plain": [
       "[DecisionTreeClassifier(random_state=42),\n",
       " RandomForestClassifier(random_state=42),\n",
       " GradientBoostingClassifier(random_state=42)]"
      ]
     },
     "execution_count": 33,
     "metadata": {},
     "output_type": "execute_result"
    }
   ],
   "source": [
    "from sklearn.tree import DecisionTreeClassifier\n",
    "from sklearn.ensemble import RandomForestClassifier,GradientBoostingClassifier\n",
    "\n",
    "estimators=[DecisionTreeClassifier(random_state=42),\n",
    "            RandomForestClassifier(random_state=42),\n",
    "            GradientBoostingClassifier(random_state=42)]\n",
    "estimators"
   ]
  },
  {
   "cell_type": "code",
   "execution_count": 39,
   "metadata": {},
   "outputs": [
    {
     "name": "stdout",
     "output_type": "stream",
     "text": [
      "Fitting 5 folds for each of 10 candidates, totalling 50 fits\n"
     ]
    },
    {
     "name": "stderr",
     "output_type": "stream",
     "text": [
      "[Parallel(n_jobs=-1)]: Using backend LokyBackend with 4 concurrent workers.\n",
      "[Parallel(n_jobs=-1)]: Done  50 out of  50 | elapsed:    0.5s finished\n",
      "[Parallel(n_jobs=-1)]: Using backend LokyBackend with 4 concurrent workers.\n"
     ]
    },
    {
     "name": "stdout",
     "output_type": "stream",
     "text": [
      "Fitting 5 folds for each of 10 candidates, totalling 50 fits\n"
     ]
    },
    {
     "name": "stderr",
     "output_type": "stream",
     "text": [
      "[Parallel(n_jobs=-1)]: Done  33 tasks      | elapsed:   21.9s\n",
      "[Parallel(n_jobs=-1)]: Done  50 out of  50 | elapsed:   36.3s finished\n"
     ]
    },
    {
     "name": "stdout",
     "output_type": "stream",
     "text": [
      "Fitting 5 folds for each of 10 candidates, totalling 50 fits\n"
     ]
    },
    {
     "name": "stderr",
     "output_type": "stream",
     "text": [
      "[Parallel(n_jobs=-1)]: Using backend LokyBackend with 4 concurrent workers.\n",
      "[Parallel(n_jobs=-1)]: Done  33 tasks      | elapsed:   31.6s\n",
      "[Parallel(n_jobs=-1)]: Done  50 out of  50 | elapsed:   47.4s finished\n"
     ]
    }
   ],
   "source": [
    "max_depth=np.random.randint(2,20,10)\n",
    "max_features=np.random.uniform(0.3,1.0,10)\n",
    "\n",
    "param_distributions={'max_depth':max_depth,\n",
    "                    'max_features':max_features}\n",
    "\n",
    "results=[]\n",
    "for estimator in estimators:\n",
    "    result=[]\n",
    "    if estimator.__class__.__name__!='DecisionTreeClassifier':\n",
    "        param_distributions['n_estimators']=np.random.randint(100,1000,10)\n",
    "    clf=RandomizedSearchCV(estimator,param_distributions,n_iter=10,\n",
    "                      scoring='accuracy',n_jobs=-1,\n",
    "                      cv=5,verbose=2)\n",
    "    clf.fit(X_train,y_train)\n",
    "    result.append(estimator.__class__.__name__)\n",
    "    result.append(clf.best_params_)\n",
    "    result.append(clf.best_score_)\n",
    "    result.append(clf.score(X_test,y_test))\n",
    "    result.append(clf.cv_results_)\n",
    "    results.append(result)"
   ]
  },
  {
   "cell_type": "code",
   "execution_count": 40,
   "metadata": {},
   "outputs": [
    {
     "data": {
      "text/html": [
       "<div>\n",
       "<style scoped>\n",
       "    .dataframe tbody tr th:only-of-type {\n",
       "        vertical-align: middle;\n",
       "    }\n",
       "\n",
       "    .dataframe tbody tr th {\n",
       "        vertical-align: top;\n",
       "    }\n",
       "\n",
       "    .dataframe thead th {\n",
       "        text-align: right;\n",
       "    }\n",
       "</style>\n",
       "<table border=\"1\" class=\"dataframe\">\n",
       "  <thead>\n",
       "    <tr style=\"text-align: right;\">\n",
       "      <th></th>\n",
       "      <th>estimator</th>\n",
       "      <th>best_params</th>\n",
       "      <th>train_score</th>\n",
       "      <th>test_score</th>\n",
       "      <th>cv_result</th>\n",
       "    </tr>\n",
       "  </thead>\n",
       "  <tbody>\n",
       "    <tr>\n",
       "      <th>0</th>\n",
       "      <td>DecisionTreeClassifier</td>\n",
       "      <td>{'max_features': 0.784640503991576, 'max_depth...</td>\n",
       "      <td>0.869692</td>\n",
       "      <td>0.818182</td>\n",
       "      <td>{'mean_fit_time': [0.009574985504150391, 0.015...</td>\n",
       "    </tr>\n",
       "    <tr>\n",
       "      <th>1</th>\n",
       "      <td>RandomForestClassifier</td>\n",
       "      <td>{'n_estimators': 689, 'max_features': 0.615022...</td>\n",
       "      <td>0.879475</td>\n",
       "      <td>0.876623</td>\n",
       "      <td>{'mean_fit_time': [2.7597901821136475, 2.89874...</td>\n",
       "    </tr>\n",
       "    <tr>\n",
       "      <th>2</th>\n",
       "      <td>GradientBoostingClassifier</td>\n",
       "      <td>{'n_estimators': 118, 'max_features': 0.652556...</td>\n",
       "      <td>0.897388</td>\n",
       "      <td>0.863636</td>\n",
       "      <td>{'mean_fit_time': [1.3376174449920655, 4.81725...</td>\n",
       "    </tr>\n",
       "  </tbody>\n",
       "</table>\n",
       "</div>"
      ],
      "text/plain": [
       "                    estimator  \\\n",
       "0      DecisionTreeClassifier   \n",
       "1      RandomForestClassifier   \n",
       "2  GradientBoostingClassifier   \n",
       "\n",
       "                                         best_params  train_score  test_score  \\\n",
       "0  {'max_features': 0.784640503991576, 'max_depth...     0.869692    0.818182   \n",
       "1  {'n_estimators': 689, 'max_features': 0.615022...     0.879475    0.876623   \n",
       "2  {'n_estimators': 118, 'max_features': 0.652556...     0.897388    0.863636   \n",
       "\n",
       "                                           cv_result  \n",
       "0  {'mean_fit_time': [0.009574985504150391, 0.015...  \n",
       "1  {'mean_fit_time': [2.7597901821136475, 2.89874...  \n",
       "2  {'mean_fit_time': [1.3376174449920655, 4.81725...  "
      ]
     },
     "execution_count": 40,
     "metadata": {},
     "output_type": "execute_result"
    }
   ],
   "source": [
    "pd.DataFrame(results,\n",
    "             columns=['estimator','best_params','train_score','test_score','cv_result'])"
   ]
  },
  {
   "cell_type": "code",
   "execution_count": null,
   "metadata": {},
   "outputs": [],
   "source": []
  }
 ],
 "metadata": {
  "kernelspec": {
   "display_name": "Python 3",
   "language": "python",
   "name": "python3"
  },
  "language_info": {
   "codemirror_mode": {
    "name": "ipython",
    "version": 3
   },
   "file_extension": ".py",
   "mimetype": "text/x-python",
   "name": "python",
   "nbconvert_exporter": "python",
   "pygments_lexer": "ipython3",
   "version": "3.7.7"
  }
 },
 "nbformat": 4,
 "nbformat_minor": 4
}
